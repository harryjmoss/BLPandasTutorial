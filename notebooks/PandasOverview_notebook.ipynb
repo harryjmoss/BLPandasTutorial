{
 "cells": [
  {
   "cell_type": "markdown",
   "metadata": {
    "slideshow": {
     "slide_type": "slide"
    }
   },
   "source": [
    "# pandas overview\n",
    "\n",
    "<div class=\"row\">\n",
    "  <div class=\"column\">\n",
    "\n",
    "<a href=\"https://github.com/pandas-dev/pandas\"><img src=\"data:image/svg+xml;base64,PHN2ZyBpZD0iTGF5ZXJfMSIgZGF0YS1uYW1lPSJMYXllciAxIiB4bWxucz0iaHR0cDovL3d3dy53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%0D%0APg== \"  width=\"50%\" align='left'></a>\n",
    "\n",
    "</div>\n",
    "  <div class=\"column\">\n",
    "\n",
    "<img src=\"https://upload.wikimedia.org/wikipedia/commons/thumb/0/0f/Grosser_Panda.JPG/1280px-Grosser_Panda.JPG\"  width='30%' align='right'></img>\n",
    "    </div>\n",
    "</div>\n",
    "\n",
    "<div style=\"text-align: right\">\n",
    "    <font size=\"1\">J. Patrick Fischer - <a href=\"https://commons.wikimedia.org/wiki/File:Grosser_Panda.JPG\">Own work</a> <a href=\"https://creativecommons.org/licenses/by-sa/3.0/\">[CC BY-SA 3.0]</a></font>\n",
    "</div>\n",
    "\n"
   ]
  },
  {
   "cell_type": "markdown",
   "metadata": {
    "slideshow": {
     "slide_type": "subslide"
    }
   },
   "source": [
    "Links for inspiration:\n",
    "\n",
    "https://pandas.pydata.org/pandas-docs/stable/  \n",
    "https://pandas.pydata.org/pandas-docs/stable/getting_started/10min.html  \n",
    "https://pandas.pydata.org/pandas-docs/stable/getting_started/tutorials.html  \n",
    "https://pandas.pydata.org/pandas-docs/stable/getting_started/comparison/comparison_with_sql.html  \n",
    "https://www.learndatasci.com/tutorials/python-pandas-tutorial-complete-introduction-for-beginners/  \n",
    "https://ourcodingclub.github.io/2018/04/18/pandas-python-intro.html  \n",
    "https://programminghistorian.org/en/lessons/visualizing-with-bokeh#pandas-overview"
   ]
  },
  {
   "cell_type": "markdown",
   "metadata": {
    "slideshow": {
     "slide_type": "slide"
    }
   },
   "source": [
    "# Getting started with pandas"
   ]
  },
  {
   "cell_type": "markdown",
   "metadata": {
    "slideshow": {
     "slide_type": "fragment"
    }
   },
   "source": [
    "\n",
    "\n",
    "\n",
    "> The library’s name derives\n",
    "from **pan**el **da**ta, a common term for multidimensional data\n",
    "sets encountered in statistics and econometrics.  \n",
    "\n",
    "[McKinney, W. (2011). pandas: a foundational Python library for data analysis and statistics. Python for High Performance and Scientific Computing, 14.](https://www.dlr.de/sc/portaldata/15/resources/dokumente/pyhpc2011/submissions/pyhpc2011_submission_9.pdf)\n",
    "\n",
    ">pandas is a Python package providing fast, flexible, and expressive data structures designed to make working with “relational” or “labeled” data both easy and intuitive. It aims to be the fundamental high-level building block for doing practical, real world data analysis in Python. Additionally, it has the broader goal of becoming the most powerful and flexible open source data analysis / manipulation tool available in any language.  \n",
    "\n",
    "[pandas docs](https://pandas.pydata.org/pandas-docs/stable/getting_started/overview.html)"
   ]
  },
  {
   "cell_type": "markdown",
   "metadata": {
    "slideshow": {
     "slide_type": "slide"
    }
   },
   "source": [
    "## Why pandas?"
   ]
  },
  {
   "cell_type": "markdown",
   "metadata": {
    "slideshow": {
     "slide_type": "fragment"
    }
   },
   "source": [
    "- Useful for manipulating, cleaning up, augmenting and analysing data\n",
    "- Great with tabular data\n",
    "- Embedded in the python environment (which may or may not be useful for you)\n",
    "- Built on top of NumPy - a mathematical library for Python with some useful applications for analysing your data\n",
    "- It's (mostly) quite fast, and (mostly) user friendly"
   ]
  },
  {
   "cell_type": "markdown",
   "metadata": {
    "slideshow": {
     "slide_type": "slide"
    }
   },
   "source": [
    "## Data structures"
   ]
  },
  {
   "cell_type": "markdown",
   "metadata": {
    "slideshow": {
     "slide_type": "fragment"
    }
   },
   "source": [
    "- pandas represents a column of tabular data as a **Series** - the 1D case\n",
    "- multiple columns represented together as a table of data are called a **DataFrame** - 2D case"
   ]
  },
  {
   "cell_type": "markdown",
   "metadata": {
    "slideshow": {
     "slide_type": "slide"
    }
   },
   "source": [
    "## When to use pandas"
   ]
  },
  {
   "cell_type": "markdown",
   "metadata": {
    "slideshow": {
     "slide_type": "fragment"
    }
   },
   "source": [
    "- Best with 'small' datasets ranging from a few MB to a few GB - needs to fit in memory!"
   ]
  },
  {
   "cell_type": "markdown",
   "metadata": {
    "slideshow": {
     "slide_type": "subslide"
    }
   },
   "source": [
    "## When *not* to use pandas"
   ]
  },
  {
   "cell_type": "markdown",
   "metadata": {
    "slideshow": {
     "slide_type": "fragment"
    }
   },
   "source": [
    " - \"Big data\" - datasets over about 100 GB. Clearly too large to fit in memory, use [spark](https://spark.apache.org/) or similar!"
   ]
  },
  {
   "cell_type": "markdown",
   "metadata": {
    "slideshow": {
     "slide_type": "subslide"
    }
   },
   "source": [
    "## Maybe pandas?"
   ]
  },
  {
   "cell_type": "markdown",
   "metadata": {
    "slideshow": {
     "slide_type": "fragment"
    }
   },
   "source": [
    "Possible to analyse 'large data' (datasets under about 100 GB) in pandas, although other tools such as [dask](https://dask.org/) exist for this purpose"
   ]
  },
  {
   "cell_type": "markdown",
   "metadata": {
    "slideshow": {
     "slide_type": "subslide"
    }
   },
   "source": [
    "## Where to find help"
   ]
  },
  {
   "cell_type": "markdown",
   "metadata": {
    "slideshow": {
     "slide_type": "fragment"
    }
   },
   "source": [
    "- The [pandas documentation](https://pandas.pydata.org/pandas-docs/stable/) is a great first stop for e.g. finding function definitions and usage\n",
    "- pandas [cheat sheet](http://pandas.pydata.org/Pandas_Cheat_Sheet.pdf)\n",
    "- See if a similar problem has a solution on [stackoverflow](https://stackoverflow.com/questions/tagged/pandas)\n",
    "- Google/ask around!"
   ]
  },
  {
   "cell_type": "markdown",
   "metadata": {
    "slideshow": {
     "slide_type": "slide"
    }
   },
   "source": [
    "## A few basics"
   ]
  },
  {
   "cell_type": "markdown",
   "metadata": {
    "slideshow": {
     "slide_type": "fragment"
    }
   },
   "source": [
    "Importing pandas"
   ]
  },
  {
   "cell_type": "code",
   "execution_count": 59,
   "metadata": {
    "slideshow": {
     "slide_type": "fragment"
    }
   },
   "outputs": [
    {
     "name": "stdout",
     "output_type": "stream",
     "text": [
      "hi\n"
     ]
    }
   ],
   "source": [
    "import pandas as pd\n",
    "import numpy as np\n",
    "import openpyxl # for reading/writing to excel files\n",
    "\n",
    "pd.set_option('display.max_rows', 15)\n",
    "print(\"hi\")"
   ]
  },
  {
   "cell_type": "markdown",
   "metadata": {
    "slideshow": {
     "slide_type": "fragment"
    }
   },
   "source": [
    "Creating a dataframe from scratch"
   ]
  },
  {
   "cell_type": "code",
   "execution_count": 2,
   "metadata": {
    "slideshow": {
     "slide_type": "subslide"
    }
   },
   "outputs": [],
   "source": [
    "data = {'apples': [3,5,2], 'oranges': [5,1,3], 'bananas': [2,6,4]}\n",
    "\n",
    "purchases=pd.DataFrame(data)\n",
    "purchases['CustomerID']=[\"0551\",\"0792\",\"0932\"]\n",
    "purchases=purchases.set_index('CustomerID')"
   ]
  },
  {
   "cell_type": "code",
   "execution_count": 3,
   "metadata": {
    "slideshow": {
     "slide_type": "fragment"
    }
   },
   "outputs": [
    {
     "data": {
      "text/html": [
       "<div>\n",
       "<style scoped>\n",
       "    .dataframe tbody tr th:only-of-type {\n",
       "        vertical-align: middle;\n",
       "    }\n",
       "\n",
       "    .dataframe tbody tr th {\n",
       "        vertical-align: top;\n",
       "    }\n",
       "\n",
       "    .dataframe thead th {\n",
       "        text-align: right;\n",
       "    }\n",
       "</style>\n",
       "<table border=\"1\" class=\"dataframe\">\n",
       "  <thead>\n",
       "    <tr style=\"text-align: right;\">\n",
       "      <th></th>\n",
       "      <th>apples</th>\n",
       "      <th>oranges</th>\n",
       "      <th>bananas</th>\n",
       "    </tr>\n",
       "    <tr>\n",
       "      <th>CustomerID</th>\n",
       "      <th></th>\n",
       "      <th></th>\n",
       "      <th></th>\n",
       "    </tr>\n",
       "  </thead>\n",
       "  <tbody>\n",
       "    <tr>\n",
       "      <th>0551</th>\n",
       "      <td>3</td>\n",
       "      <td>5</td>\n",
       "      <td>2</td>\n",
       "    </tr>\n",
       "    <tr>\n",
       "      <th>0792</th>\n",
       "      <td>5</td>\n",
       "      <td>1</td>\n",
       "      <td>6</td>\n",
       "    </tr>\n",
       "    <tr>\n",
       "      <th>0932</th>\n",
       "      <td>2</td>\n",
       "      <td>3</td>\n",
       "      <td>4</td>\n",
       "    </tr>\n",
       "  </tbody>\n",
       "</table>\n",
       "</div>"
      ],
      "text/plain": [
       "            apples  oranges  bananas\n",
       "CustomerID                          \n",
       "0551             3        5        2\n",
       "0792             5        1        6\n",
       "0932             2        3        4"
      ]
     },
     "execution_count": 3,
     "metadata": {},
     "output_type": "execute_result"
    }
   ],
   "source": [
    "purchases"
   ]
  },
  {
   "cell_type": "markdown",
   "metadata": {
    "slideshow": {
     "slide_type": "subslide"
    }
   },
   "source": [
    "Or make a dataframe like this:"
   ]
  },
  {
   "cell_type": "code",
   "execution_count": 4,
   "metadata": {
    "slideshow": {
     "slide_type": "fragment"
    }
   },
   "outputs": [
    {
     "data": {
      "text/html": [
       "<div>\n",
       "<style scoped>\n",
       "    .dataframe tbody tr th:only-of-type {\n",
       "        vertical-align: middle;\n",
       "    }\n",
       "\n",
       "    .dataframe tbody tr th {\n",
       "        vertical-align: top;\n",
       "    }\n",
       "\n",
       "    .dataframe thead th {\n",
       "        text-align: right;\n",
       "    }\n",
       "</style>\n",
       "<table border=\"1\" class=\"dataframe\">\n",
       "  <thead>\n",
       "    <tr style=\"text-align: right;\">\n",
       "      <th></th>\n",
       "      <th>A</th>\n",
       "      <th>B</th>\n",
       "      <th>C</th>\n",
       "      <th>D</th>\n",
       "      <th>E</th>\n",
       "      <th>F</th>\n",
       "    </tr>\n",
       "  </thead>\n",
       "  <tbody>\n",
       "    <tr>\n",
       "      <th>0</th>\n",
       "      <td>1.0</td>\n",
       "      <td>2013-01-02</td>\n",
       "      <td>1.0</td>\n",
       "      <td>3</td>\n",
       "      <td>test</td>\n",
       "      <td>foo</td>\n",
       "    </tr>\n",
       "    <tr>\n",
       "      <th>1</th>\n",
       "      <td>1.0</td>\n",
       "      <td>2013-01-02</td>\n",
       "      <td>1.0</td>\n",
       "      <td>3</td>\n",
       "      <td>train</td>\n",
       "      <td>foo</td>\n",
       "    </tr>\n",
       "    <tr>\n",
       "      <th>2</th>\n",
       "      <td>1.0</td>\n",
       "      <td>2013-01-02</td>\n",
       "      <td>1.0</td>\n",
       "      <td>3</td>\n",
       "      <td>test</td>\n",
       "      <td>foo</td>\n",
       "    </tr>\n",
       "    <tr>\n",
       "      <th>3</th>\n",
       "      <td>1.0</td>\n",
       "      <td>2013-01-02</td>\n",
       "      <td>1.0</td>\n",
       "      <td>3</td>\n",
       "      <td>train</td>\n",
       "      <td>foo</td>\n",
       "    </tr>\n",
       "  </tbody>\n",
       "</table>\n",
       "</div>"
      ],
      "text/plain": [
       "     A          B    C  D      E    F\n",
       "0  1.0 2013-01-02  1.0  3   test  foo\n",
       "1  1.0 2013-01-02  1.0  3  train  foo\n",
       "2  1.0 2013-01-02  1.0  3   test  foo\n",
       "3  1.0 2013-01-02  1.0  3  train  foo"
      ]
     },
     "execution_count": 4,
     "metadata": {},
     "output_type": "execute_result"
    }
   ],
   "source": [
    "df = pd.DataFrame({'A': 1.,\n",
    "                    'B': pd.Timestamp('20130102'),\n",
    "                    'C': pd.Series(1, index=list(range(4)), dtype='float32'),\n",
    "                    'D': np.array([3] * 4, dtype='int32'),\n",
    "                    'E': pd.Categorical([\"test\", \"train\", \"test\", \"train\"]),\n",
    "                    'F': 'foo'\n",
    "                    })\n",
    "df"
   ]
  },
  {
   "cell_type": "code",
   "execution_count": 5,
   "metadata": {
    "slideshow": {
     "slide_type": "subslide"
    }
   },
   "outputs": [
    {
     "data": {
      "text/plain": [
       "array([-0.52260614,  0.55113551,  0.20615735, -0.56412001, -0.21961819,\n",
       "        1.83802116, -1.07217335,  0.78583976, -0.48176915,  1.92900359])"
      ]
     },
     "execution_count": 5,
     "metadata": {},
     "output_type": "execute_result"
    }
   ],
   "source": [
    "np.random.randn(10)"
   ]
  },
  {
   "cell_type": "code",
   "execution_count": 6,
   "metadata": {
    "slideshow": {
     "slide_type": "fragment"
    }
   },
   "outputs": [
    {
     "name": "stdout",
     "output_type": "stream",
     "text": [
      "<class 'pandas.core.frame.DataFrame'>\n",
      "RangeIndex: 10 entries, 0 to 9\n",
      "Data columns (total 3 columns):\n",
      "A    10 non-null float64\n",
      "B    10 non-null float64\n",
      "C    10 non-null float64\n",
      "dtypes: float64(3)\n",
      "memory usage: 320.0 bytes\n"
     ]
    }
   ],
   "source": [
    "dfL=pd.DataFrame({'A':pd.Series(np.random.randn(10)),\n",
    "                  'B': pd.Series(np.random.randn(10)),\n",
    "                  'C': pd.Series(np.random.randn(10))\n",
    "                 })\n",
    "dfL.info()"
   ]
  },
  {
   "cell_type": "code",
   "execution_count": 7,
   "metadata": {
    "slideshow": {
     "slide_type": "subslide"
    }
   },
   "outputs": [
    {
     "data": {
      "text/html": [
       "<div>\n",
       "<style scoped>\n",
       "    .dataframe tbody tr th:only-of-type {\n",
       "        vertical-align: middle;\n",
       "    }\n",
       "\n",
       "    .dataframe tbody tr th {\n",
       "        vertical-align: top;\n",
       "    }\n",
       "\n",
       "    .dataframe thead th {\n",
       "        text-align: right;\n",
       "    }\n",
       "</style>\n",
       "<table border=\"1\" class=\"dataframe\">\n",
       "  <thead>\n",
       "    <tr style=\"text-align: right;\">\n",
       "      <th></th>\n",
       "      <th>A</th>\n",
       "      <th>B</th>\n",
       "      <th>C</th>\n",
       "    </tr>\n",
       "  </thead>\n",
       "  <tbody>\n",
       "    <tr>\n",
       "      <th>0</th>\n",
       "      <td>0.484158</td>\n",
       "      <td>-0.141869</td>\n",
       "      <td>0.241884</td>\n",
       "    </tr>\n",
       "    <tr>\n",
       "      <th>1</th>\n",
       "      <td>1.259745</td>\n",
       "      <td>0.119820</td>\n",
       "      <td>-0.311023</td>\n",
       "    </tr>\n",
       "    <tr>\n",
       "      <th>2</th>\n",
       "      <td>-1.230095</td>\n",
       "      <td>0.925179</td>\n",
       "      <td>1.174048</td>\n",
       "    </tr>\n",
       "    <tr>\n",
       "      <th>3</th>\n",
       "      <td>1.615008</td>\n",
       "      <td>-0.071063</td>\n",
       "      <td>1.186953</td>\n",
       "    </tr>\n",
       "    <tr>\n",
       "      <th>4</th>\n",
       "      <td>1.403879</td>\n",
       "      <td>-0.926808</td>\n",
       "      <td>-0.943394</td>\n",
       "    </tr>\n",
       "  </tbody>\n",
       "</table>\n",
       "</div>"
      ],
      "text/plain": [
       "          A         B         C\n",
       "0  0.484158 -0.141869  0.241884\n",
       "1  1.259745  0.119820 -0.311023\n",
       "2 -1.230095  0.925179  1.174048\n",
       "3  1.615008 -0.071063  1.186953\n",
       "4  1.403879 -0.926808 -0.943394"
      ]
     },
     "execution_count": 7,
     "metadata": {},
     "output_type": "execute_result"
    }
   ],
   "source": [
    "dfL.head()"
   ]
  },
  {
   "cell_type": "code",
   "execution_count": 8,
   "metadata": {
    "slideshow": {
     "slide_type": "fragment"
    }
   },
   "outputs": [
    {
     "data": {
      "text/html": [
       "<div>\n",
       "<style scoped>\n",
       "    .dataframe tbody tr th:only-of-type {\n",
       "        vertical-align: middle;\n",
       "    }\n",
       "\n",
       "    .dataframe tbody tr th {\n",
       "        vertical-align: top;\n",
       "    }\n",
       "\n",
       "    .dataframe thead th {\n",
       "        text-align: right;\n",
       "    }\n",
       "</style>\n",
       "<table border=\"1\" class=\"dataframe\">\n",
       "  <thead>\n",
       "    <tr style=\"text-align: right;\">\n",
       "      <th></th>\n",
       "      <th>A</th>\n",
       "      <th>B</th>\n",
       "      <th>C</th>\n",
       "    </tr>\n",
       "  </thead>\n",
       "  <tbody>\n",
       "    <tr>\n",
       "      <th>5</th>\n",
       "      <td>-0.263985</td>\n",
       "      <td>-0.527492</td>\n",
       "      <td>0.902631</td>\n",
       "    </tr>\n",
       "    <tr>\n",
       "      <th>6</th>\n",
       "      <td>-0.144736</td>\n",
       "      <td>-0.705110</td>\n",
       "      <td>-0.164951</td>\n",
       "    </tr>\n",
       "    <tr>\n",
       "      <th>7</th>\n",
       "      <td>0.083397</td>\n",
       "      <td>1.075904</td>\n",
       "      <td>-0.407989</td>\n",
       "    </tr>\n",
       "    <tr>\n",
       "      <th>8</th>\n",
       "      <td>-0.935525</td>\n",
       "      <td>-1.694526</td>\n",
       "      <td>-1.246067</td>\n",
       "    </tr>\n",
       "    <tr>\n",
       "      <th>9</th>\n",
       "      <td>-0.542877</td>\n",
       "      <td>0.151173</td>\n",
       "      <td>0.042694</td>\n",
       "    </tr>\n",
       "  </tbody>\n",
       "</table>\n",
       "</div>"
      ],
      "text/plain": [
       "          A         B         C\n",
       "5 -0.263985 -0.527492  0.902631\n",
       "6 -0.144736 -0.705110 -0.164951\n",
       "7  0.083397  1.075904 -0.407989\n",
       "8 -0.935525 -1.694526 -1.246067\n",
       "9 -0.542877  0.151173  0.042694"
      ]
     },
     "execution_count": 8,
     "metadata": {},
     "output_type": "execute_result"
    }
   ],
   "source": [
    "dfL.tail()"
   ]
  },
  {
   "cell_type": "markdown",
   "metadata": {
    "slideshow": {
     "slide_type": "slide"
    }
   },
   "source": [
    "### Saving as a comma separated variable (CSV) file or an excel file"
   ]
  },
  {
   "cell_type": "code",
   "execution_count": 10,
   "metadata": {
    "slideshow": {
     "slide_type": "fragment"
    }
   },
   "outputs": [],
   "source": [
    "dfL.to_csv('data/dfl_csv.csv')"
   ]
  },
  {
   "cell_type": "code",
   "execution_count": 11,
   "metadata": {
    "slideshow": {
     "slide_type": "fragment"
    }
   },
   "outputs": [],
   "source": [
    "dfL.to_excel('data/dfl_excel.xlsx')"
   ]
  },
  {
   "cell_type": "markdown",
   "metadata": {
    "slideshow": {
     "slide_type": "slide"
    }
   },
   "source": [
    "### Import from csv into dataframe:"
   ]
  },
  {
   "cell_type": "code",
   "execution_count": 12,
   "metadata": {
    "slideshow": {
     "slide_type": "fragment"
    }
   },
   "outputs": [
    {
     "data": {
      "text/html": [
       "<div>\n",
       "<style scoped>\n",
       "    .dataframe tbody tr th:only-of-type {\n",
       "        vertical-align: middle;\n",
       "    }\n",
       "\n",
       "    .dataframe tbody tr th {\n",
       "        vertical-align: top;\n",
       "    }\n",
       "\n",
       "    .dataframe thead th {\n",
       "        text-align: right;\n",
       "    }\n",
       "</style>\n",
       "<table border=\"1\" class=\"dataframe\">\n",
       "  <thead>\n",
       "    <tr style=\"text-align: right;\">\n",
       "      <th></th>\n",
       "      <th>User ID</th>\n",
       "      <th>Join date</th>\n",
       "      <th>Total Sales</th>\n",
       "      <th>Status</th>\n",
       "    </tr>\n",
       "  </thead>\n",
       "  <tbody>\n",
       "    <tr>\n",
       "      <th>0</th>\n",
       "      <td>7652</td>\n",
       "      <td>01/01/2020</td>\n",
       "      <td>20</td>\n",
       "      <td>Staff</td>\n",
       "    </tr>\n",
       "    <tr>\n",
       "      <th>1</th>\n",
       "      <td>1025</td>\n",
       "      <td>01/02/2015</td>\n",
       "      <td>110</td>\n",
       "      <td>Guest</td>\n",
       "    </tr>\n",
       "    <tr>\n",
       "      <th>2</th>\n",
       "      <td>9856</td>\n",
       "      <td>26/04/2017</td>\n",
       "      <td>300</td>\n",
       "      <td>Guest</td>\n",
       "    </tr>\n",
       "    <tr>\n",
       "      <th>3</th>\n",
       "      <td>11063</td>\n",
       "      <td>26/10/2016</td>\n",
       "      <td>1100</td>\n",
       "      <td>Staff</td>\n",
       "    </tr>\n",
       "    <tr>\n",
       "      <th>4</th>\n",
       "      <td>2314</td>\n",
       "      <td>13/01/2019</td>\n",
       "      <td>500</td>\n",
       "      <td>Staff</td>\n",
       "    </tr>\n",
       "    <tr>\n",
       "      <th>5</th>\n",
       "      <td>6749</td>\n",
       "      <td>11/05/2018</td>\n",
       "      <td>244</td>\n",
       "      <td>Guest</td>\n",
       "    </tr>\n",
       "    <tr>\n",
       "      <th>6</th>\n",
       "      <td>4346</td>\n",
       "      <td>26/04/2017</td>\n",
       "      <td>213</td>\n",
       "      <td>Guest</td>\n",
       "    </tr>\n",
       "  </tbody>\n",
       "</table>\n",
       "</div>"
      ],
      "text/plain": [
       "   User ID    Join date  Total Sales  Status\n",
       "0      7652  01/01/2020           20   Staff\n",
       "1      1025  01/02/2015          110   Guest\n",
       "2      9856  26/04/2017          300   Guest\n",
       "3     11063  26/10/2016         1100   Staff\n",
       "4      2314  13/01/2019          500   Staff\n",
       "5      6749  11/05/2018          244  Guest \n",
       "6      4346  26/04/2017          213   Guest"
      ]
     },
     "execution_count": 12,
     "metadata": {},
     "output_type": "execute_result"
    }
   ],
   "source": [
    "csvdf=pd.read_csv('data/Pandas_example_csv.csv')\n",
    "csvdf"
   ]
  },
  {
   "cell_type": "code",
   "execution_count": 13,
   "metadata": {
    "slideshow": {
     "slide_type": "fragment"
    }
   },
   "outputs": [
    {
     "data": {
      "text/html": [
       "<div>\n",
       "<style scoped>\n",
       "    .dataframe tbody tr th:only-of-type {\n",
       "        vertical-align: middle;\n",
       "    }\n",
       "\n",
       "    .dataframe tbody tr th {\n",
       "        vertical-align: top;\n",
       "    }\n",
       "\n",
       "    .dataframe thead th {\n",
       "        text-align: right;\n",
       "    }\n",
       "</style>\n",
       "<table border=\"1\" class=\"dataframe\">\n",
       "  <thead>\n",
       "    <tr style=\"text-align: right;\">\n",
       "      <th></th>\n",
       "      <th>User ID</th>\n",
       "      <th>Join date</th>\n",
       "      <th>Total Sales</th>\n",
       "      <th>Status</th>\n",
       "    </tr>\n",
       "  </thead>\n",
       "  <tbody>\n",
       "    <tr>\n",
       "      <th>0</th>\n",
       "      <td>7652</td>\n",
       "      <td>2020-01-01</td>\n",
       "      <td>20</td>\n",
       "      <td>Staff</td>\n",
       "    </tr>\n",
       "    <tr>\n",
       "      <th>1</th>\n",
       "      <td>1025</td>\n",
       "      <td>2015-01-02</td>\n",
       "      <td>110</td>\n",
       "      <td>Guest</td>\n",
       "    </tr>\n",
       "    <tr>\n",
       "      <th>2</th>\n",
       "      <td>9856</td>\n",
       "      <td>2017-04-26</td>\n",
       "      <td>300</td>\n",
       "      <td>Guest</td>\n",
       "    </tr>\n",
       "    <tr>\n",
       "      <th>3</th>\n",
       "      <td>11063</td>\n",
       "      <td>2016-10-26</td>\n",
       "      <td>1100</td>\n",
       "      <td>Staff</td>\n",
       "    </tr>\n",
       "    <tr>\n",
       "      <th>4</th>\n",
       "      <td>2314</td>\n",
       "      <td>2019-01-13</td>\n",
       "      <td>500</td>\n",
       "      <td>Staff</td>\n",
       "    </tr>\n",
       "    <tr>\n",
       "      <th>5</th>\n",
       "      <td>6749</td>\n",
       "      <td>2018-11-05</td>\n",
       "      <td>244</td>\n",
       "      <td>Guest</td>\n",
       "    </tr>\n",
       "    <tr>\n",
       "      <th>6</th>\n",
       "      <td>4346</td>\n",
       "      <td>2017-04-26</td>\n",
       "      <td>213</td>\n",
       "      <td>Guest</td>\n",
       "    </tr>\n",
       "  </tbody>\n",
       "</table>\n",
       "</div>"
      ],
      "text/plain": [
       "   User ID   Join date  Total Sales  Status\n",
       "0      7652 2020-01-01           20   Staff\n",
       "1      1025 2015-01-02          110   Guest\n",
       "2      9856 2017-04-26          300   Guest\n",
       "3     11063 2016-10-26         1100   Staff\n",
       "4      2314 2019-01-13          500   Staff\n",
       "5      6749 2018-11-05          244  Guest \n",
       "6      4346 2017-04-26          213   Guest"
      ]
     },
     "execution_count": 13,
     "metadata": {},
     "output_type": "execute_result"
    }
   ],
   "source": [
    "csvdf['Join date']=pd.to_datetime(csvdf['Join date'])\n",
    "csvdf"
   ]
  },
  {
   "cell_type": "code",
   "execution_count": 14,
   "metadata": {
    "slideshow": {
     "slide_type": "subslide"
    }
   },
   "outputs": [
    {
     "data": {
      "text/plain": [
       "User ID                 int64\n",
       "Join date      datetime64[ns]\n",
       "Total Sales             int64\n",
       "Status                 object\n",
       "dtype: object"
      ]
     },
     "execution_count": 14,
     "metadata": {},
     "output_type": "execute_result"
    }
   ],
   "source": [
    "csvdf.dtypes"
   ]
  },
  {
   "cell_type": "markdown",
   "metadata": {
    "slideshow": {
     "slide_type": "slide"
    }
   },
   "source": [
    "### ... or Excel files"
   ]
  },
  {
   "cell_type": "code",
   "execution_count": 15,
   "metadata": {
    "slideshow": {
     "slide_type": "fragment"
    }
   },
   "outputs": [
    {
     "data": {
      "text/html": [
       "<div>\n",
       "<style scoped>\n",
       "    .dataframe tbody tr th:only-of-type {\n",
       "        vertical-align: middle;\n",
       "    }\n",
       "\n",
       "    .dataframe tbody tr th {\n",
       "        vertical-align: top;\n",
       "    }\n",
       "\n",
       "    .dataframe thead th {\n",
       "        text-align: right;\n",
       "    }\n",
       "</style>\n",
       "<table border=\"1\" class=\"dataframe\">\n",
       "  <thead>\n",
       "    <tr style=\"text-align: right;\">\n",
       "      <th></th>\n",
       "      <th>User ID</th>\n",
       "      <th>Join date</th>\n",
       "      <th>Total Sales</th>\n",
       "      <th>Status</th>\n",
       "    </tr>\n",
       "  </thead>\n",
       "  <tbody>\n",
       "    <tr>\n",
       "      <th>0</th>\n",
       "      <td>7652</td>\n",
       "      <td>2020-01-01</td>\n",
       "      <td>20</td>\n",
       "      <td>Staff</td>\n",
       "    </tr>\n",
       "    <tr>\n",
       "      <th>1</th>\n",
       "      <td>1025</td>\n",
       "      <td>2015-02-01</td>\n",
       "      <td>110</td>\n",
       "      <td>Guest</td>\n",
       "    </tr>\n",
       "    <tr>\n",
       "      <th>2</th>\n",
       "      <td>9856</td>\n",
       "      <td>2017-04-26</td>\n",
       "      <td>300</td>\n",
       "      <td>Guest</td>\n",
       "    </tr>\n",
       "    <tr>\n",
       "      <th>3</th>\n",
       "      <td>11063</td>\n",
       "      <td>2016-10-26</td>\n",
       "      <td>1100</td>\n",
       "      <td>Staff</td>\n",
       "    </tr>\n",
       "    <tr>\n",
       "      <th>4</th>\n",
       "      <td>2314</td>\n",
       "      <td>2019-01-13</td>\n",
       "      <td>500</td>\n",
       "      <td>Staff</td>\n",
       "    </tr>\n",
       "    <tr>\n",
       "      <th>5</th>\n",
       "      <td>6749</td>\n",
       "      <td>2018-05-11</td>\n",
       "      <td>244</td>\n",
       "      <td>Guest</td>\n",
       "    </tr>\n",
       "    <tr>\n",
       "      <th>6</th>\n",
       "      <td>4346</td>\n",
       "      <td>2017-04-26</td>\n",
       "      <td>213</td>\n",
       "      <td>Guest</td>\n",
       "    </tr>\n",
       "  </tbody>\n",
       "</table>\n",
       "</div>"
      ],
      "text/plain": [
       "   User ID   Join date  Total Sales  Status\n",
       "0      7652 2020-01-01           20   Staff\n",
       "1      1025 2015-02-01          110   Guest\n",
       "2      9856 2017-04-26          300   Guest\n",
       "3     11063 2016-10-26         1100   Staff\n",
       "4      2314 2019-01-13          500   Staff\n",
       "5      6749 2018-05-11          244  Guest \n",
       "6      4346 2017-04-26          213   Guest"
      ]
     },
     "execution_count": 15,
     "metadata": {},
     "output_type": "execute_result"
    }
   ],
   "source": [
    "exceldf=pd.read_excel('data/Pandas_example_excel.xlsx')\n",
    "exceldf"
   ]
  },
  {
   "cell_type": "markdown",
   "metadata": {
    "slideshow": {
     "slide_type": "slide"
    }
   },
   "source": [
    "### Describing your data"
   ]
  },
  {
   "cell_type": "code",
   "execution_count": 16,
   "metadata": {
    "slideshow": {
     "slide_type": "fragment"
    }
   },
   "outputs": [
    {
     "data": {
      "text/plain": [
       "User ID                 int64\n",
       "Join date      datetime64[ns]\n",
       "Total Sales             int64\n",
       "Status                 object\n",
       "dtype: object"
      ]
     },
     "execution_count": 16,
     "metadata": {},
     "output_type": "execute_result"
    }
   ],
   "source": [
    "exceldf.dtypes"
   ]
  },
  {
   "cell_type": "code",
   "execution_count": 17,
   "metadata": {
    "slideshow": {
     "slide_type": "fragment"
    }
   },
   "outputs": [
    {
     "data": {
      "text/plain": [
       "Index(['User ID ', 'Join date', 'Total Sales', 'Status'], dtype='object')"
      ]
     },
     "execution_count": 17,
     "metadata": {},
     "output_type": "execute_result"
    }
   ],
   "source": [
    "exceldf.columns"
   ]
  },
  {
   "cell_type": "code",
   "execution_count": 18,
   "metadata": {
    "slideshow": {
     "slide_type": "fragment"
    }
   },
   "outputs": [
    {
     "data": {
      "text/plain": [
       "Index(['User ID', 'Join date', 'Total Sales', 'Status'], dtype='object')"
      ]
     },
     "execution_count": 18,
     "metadata": {},
     "output_type": "execute_result"
    }
   ],
   "source": [
    "exceldf.columns=exceldf.columns.str.rstrip() # remove any trailing whitespace\n",
    "exceldf.columns"
   ]
  },
  {
   "cell_type": "code",
   "execution_count": 19,
   "metadata": {
    "slideshow": {
     "slide_type": "subslide"
    }
   },
   "outputs": [
    {
     "data": {
      "text/html": [
       "<div>\n",
       "<style scoped>\n",
       "    .dataframe tbody tr th:only-of-type {\n",
       "        vertical-align: middle;\n",
       "    }\n",
       "\n",
       "    .dataframe tbody tr th {\n",
       "        vertical-align: top;\n",
       "    }\n",
       "\n",
       "    .dataframe thead th {\n",
       "        text-align: right;\n",
       "    }\n",
       "</style>\n",
       "<table border=\"1\" class=\"dataframe\">\n",
       "  <thead>\n",
       "    <tr style=\"text-align: right;\">\n",
       "      <th></th>\n",
       "      <th>User ID</th>\n",
       "      <th>Total Sales</th>\n",
       "    </tr>\n",
       "  </thead>\n",
       "  <tbody>\n",
       "    <tr>\n",
       "      <th>count</th>\n",
       "      <td>7.000000</td>\n",
       "      <td>7.000000</td>\n",
       "    </tr>\n",
       "    <tr>\n",
       "      <th>mean</th>\n",
       "      <td>6143.571429</td>\n",
       "      <td>355.285714</td>\n",
       "    </tr>\n",
       "    <tr>\n",
       "      <th>std</th>\n",
       "      <td>3757.691173</td>\n",
       "      <td>361.434510</td>\n",
       "    </tr>\n",
       "    <tr>\n",
       "      <th>min</th>\n",
       "      <td>1025.000000</td>\n",
       "      <td>20.000000</td>\n",
       "    </tr>\n",
       "    <tr>\n",
       "      <th>25%</th>\n",
       "      <td>3330.000000</td>\n",
       "      <td>161.500000</td>\n",
       "    </tr>\n",
       "    <tr>\n",
       "      <th>50%</th>\n",
       "      <td>6749.000000</td>\n",
       "      <td>244.000000</td>\n",
       "    </tr>\n",
       "    <tr>\n",
       "      <th>75%</th>\n",
       "      <td>8754.000000</td>\n",
       "      <td>400.000000</td>\n",
       "    </tr>\n",
       "    <tr>\n",
       "      <th>max</th>\n",
       "      <td>11063.000000</td>\n",
       "      <td>1100.000000</td>\n",
       "    </tr>\n",
       "  </tbody>\n",
       "</table>\n",
       "</div>"
      ],
      "text/plain": [
       "            User ID  Total Sales\n",
       "count      7.000000     7.000000\n",
       "mean    6143.571429   355.285714\n",
       "std     3757.691173   361.434510\n",
       "min     1025.000000    20.000000\n",
       "25%     3330.000000   161.500000\n",
       "50%     6749.000000   244.000000\n",
       "75%     8754.000000   400.000000\n",
       "max    11063.000000  1100.000000"
      ]
     },
     "execution_count": 19,
     "metadata": {},
     "output_type": "execute_result"
    }
   ],
   "source": [
    "exceldf.describe()"
   ]
  },
  {
   "cell_type": "markdown",
   "metadata": {
    "slideshow": {
     "slide_type": "slide"
    }
   },
   "source": [
    "## DataFrame manipulation"
   ]
  },
  {
   "cell_type": "code",
   "execution_count": 20,
   "metadata": {
    "slideshow": {
     "slide_type": "fragment"
    }
   },
   "outputs": [
    {
     "data": {
      "text/html": [
       "<div>\n",
       "<style scoped>\n",
       "    .dataframe tbody tr th:only-of-type {\n",
       "        vertical-align: middle;\n",
       "    }\n",
       "\n",
       "    .dataframe tbody tr th {\n",
       "        vertical-align: top;\n",
       "    }\n",
       "\n",
       "    .dataframe thead th {\n",
       "        text-align: right;\n",
       "    }\n",
       "</style>\n",
       "<table border=\"1\" class=\"dataframe\">\n",
       "  <thead>\n",
       "    <tr style=\"text-align: right;\">\n",
       "      <th></th>\n",
       "      <th>Join date</th>\n",
       "      <th>Status</th>\n",
       "      <th>Total Sales</th>\n",
       "      <th>User ID</th>\n",
       "    </tr>\n",
       "  </thead>\n",
       "  <tbody>\n",
       "    <tr>\n",
       "      <th>0</th>\n",
       "      <td>2020-01-01</td>\n",
       "      <td>Staff</td>\n",
       "      <td>20</td>\n",
       "      <td>7652</td>\n",
       "    </tr>\n",
       "    <tr>\n",
       "      <th>1</th>\n",
       "      <td>2015-02-01</td>\n",
       "      <td>Guest</td>\n",
       "      <td>110</td>\n",
       "      <td>1025</td>\n",
       "    </tr>\n",
       "    <tr>\n",
       "      <th>2</th>\n",
       "      <td>2017-04-26</td>\n",
       "      <td>Guest</td>\n",
       "      <td>300</td>\n",
       "      <td>9856</td>\n",
       "    </tr>\n",
       "    <tr>\n",
       "      <th>3</th>\n",
       "      <td>2016-10-26</td>\n",
       "      <td>Staff</td>\n",
       "      <td>1100</td>\n",
       "      <td>11063</td>\n",
       "    </tr>\n",
       "    <tr>\n",
       "      <th>4</th>\n",
       "      <td>2019-01-13</td>\n",
       "      <td>Staff</td>\n",
       "      <td>500</td>\n",
       "      <td>2314</td>\n",
       "    </tr>\n",
       "    <tr>\n",
       "      <th>5</th>\n",
       "      <td>2018-05-11</td>\n",
       "      <td>Guest</td>\n",
       "      <td>244</td>\n",
       "      <td>6749</td>\n",
       "    </tr>\n",
       "    <tr>\n",
       "      <th>6</th>\n",
       "      <td>2017-04-26</td>\n",
       "      <td>Guest</td>\n",
       "      <td>213</td>\n",
       "      <td>4346</td>\n",
       "    </tr>\n",
       "  </tbody>\n",
       "</table>\n",
       "</div>"
      ],
      "text/plain": [
       "   Join date  Status  Total Sales  User ID\n",
       "0 2020-01-01   Staff           20     7652\n",
       "1 2015-02-01   Guest          110     1025\n",
       "2 2017-04-26   Guest          300     9856\n",
       "3 2016-10-26   Staff         1100    11063\n",
       "4 2019-01-13   Staff          500     2314\n",
       "5 2018-05-11  Guest           244     6749\n",
       "6 2017-04-26   Guest          213     4346"
      ]
     },
     "execution_count": 20,
     "metadata": {},
     "output_type": "execute_result"
    }
   ],
   "source": [
    "exceldf.sort_index(axis=1)"
   ]
  },
  {
   "cell_type": "code",
   "execution_count": 21,
   "metadata": {
    "slideshow": {
     "slide_type": "subslide"
    }
   },
   "outputs": [
    {
     "data": {
      "text/html": [
       "<div>\n",
       "<style scoped>\n",
       "    .dataframe tbody tr th:only-of-type {\n",
       "        vertical-align: middle;\n",
       "    }\n",
       "\n",
       "    .dataframe tbody tr th {\n",
       "        vertical-align: top;\n",
       "    }\n",
       "\n",
       "    .dataframe thead th {\n",
       "        text-align: right;\n",
       "    }\n",
       "</style>\n",
       "<table border=\"1\" class=\"dataframe\">\n",
       "  <thead>\n",
       "    <tr style=\"text-align: right;\">\n",
       "      <th></th>\n",
       "      <th>User ID</th>\n",
       "      <th>Join date</th>\n",
       "      <th>Total Sales</th>\n",
       "      <th>Status</th>\n",
       "    </tr>\n",
       "  </thead>\n",
       "  <tbody>\n",
       "    <tr>\n",
       "      <th>1</th>\n",
       "      <td>1025</td>\n",
       "      <td>2015-02-01</td>\n",
       "      <td>110</td>\n",
       "      <td>Guest</td>\n",
       "    </tr>\n",
       "    <tr>\n",
       "      <th>3</th>\n",
       "      <td>11063</td>\n",
       "      <td>2016-10-26</td>\n",
       "      <td>1100</td>\n",
       "      <td>Staff</td>\n",
       "    </tr>\n",
       "    <tr>\n",
       "      <th>2</th>\n",
       "      <td>9856</td>\n",
       "      <td>2017-04-26</td>\n",
       "      <td>300</td>\n",
       "      <td>Guest</td>\n",
       "    </tr>\n",
       "    <tr>\n",
       "      <th>6</th>\n",
       "      <td>4346</td>\n",
       "      <td>2017-04-26</td>\n",
       "      <td>213</td>\n",
       "      <td>Guest</td>\n",
       "    </tr>\n",
       "    <tr>\n",
       "      <th>5</th>\n",
       "      <td>6749</td>\n",
       "      <td>2018-05-11</td>\n",
       "      <td>244</td>\n",
       "      <td>Guest</td>\n",
       "    </tr>\n",
       "    <tr>\n",
       "      <th>4</th>\n",
       "      <td>2314</td>\n",
       "      <td>2019-01-13</td>\n",
       "      <td>500</td>\n",
       "      <td>Staff</td>\n",
       "    </tr>\n",
       "    <tr>\n",
       "      <th>0</th>\n",
       "      <td>7652</td>\n",
       "      <td>2020-01-01</td>\n",
       "      <td>20</td>\n",
       "      <td>Staff</td>\n",
       "    </tr>\n",
       "  </tbody>\n",
       "</table>\n",
       "</div>"
      ],
      "text/plain": [
       "   User ID  Join date  Total Sales  Status\n",
       "1     1025 2015-02-01          110   Guest\n",
       "3    11063 2016-10-26         1100   Staff\n",
       "2     9856 2017-04-26          300   Guest\n",
       "6     4346 2017-04-26          213   Guest\n",
       "5     6749 2018-05-11          244  Guest \n",
       "4     2314 2019-01-13          500   Staff\n",
       "0     7652 2020-01-01           20   Staff"
      ]
     },
     "execution_count": 21,
     "metadata": {},
     "output_type": "execute_result"
    }
   ],
   "source": [
    "exceldf.sort_values(by='Join date')"
   ]
  },
  {
   "cell_type": "markdown",
   "metadata": {
    "slideshow": {
     "slide_type": "slide"
    }
   },
   "source": [
    "### Get a single column"
   ]
  },
  {
   "cell_type": "code",
   "execution_count": 22,
   "metadata": {
    "slideshow": {
     "slide_type": "fragment"
    }
   },
   "outputs": [
    {
     "data": {
      "text/plain": [
       "0      20\n",
       "1     110\n",
       "2     300\n",
       "3    1100\n",
       "4     500\n",
       "5     244\n",
       "6     213\n",
       "Name: Total Sales, dtype: int64"
      ]
     },
     "execution_count": 22,
     "metadata": {},
     "output_type": "execute_result"
    }
   ],
   "source": [
    "exceldf['Total Sales']"
   ]
  },
  {
   "cell_type": "markdown",
   "metadata": {
    "slideshow": {
     "slide_type": "slide"
    }
   },
   "source": [
    "### Get multiple columns"
   ]
  },
  {
   "cell_type": "code",
   "execution_count": 23,
   "metadata": {
    "slideshow": {
     "slide_type": "fragment"
    }
   },
   "outputs": [
    {
     "data": {
      "text/html": [
       "<div>\n",
       "<style scoped>\n",
       "    .dataframe tbody tr th:only-of-type {\n",
       "        vertical-align: middle;\n",
       "    }\n",
       "\n",
       "    .dataframe tbody tr th {\n",
       "        vertical-align: top;\n",
       "    }\n",
       "\n",
       "    .dataframe thead th {\n",
       "        text-align: right;\n",
       "    }\n",
       "</style>\n",
       "<table border=\"1\" class=\"dataframe\">\n",
       "  <thead>\n",
       "    <tr style=\"text-align: right;\">\n",
       "      <th></th>\n",
       "      <th>User ID</th>\n",
       "      <th>Total Sales</th>\n",
       "    </tr>\n",
       "  </thead>\n",
       "  <tbody>\n",
       "    <tr>\n",
       "      <th>0</th>\n",
       "      <td>7652</td>\n",
       "      <td>20</td>\n",
       "    </tr>\n",
       "    <tr>\n",
       "      <th>1</th>\n",
       "      <td>1025</td>\n",
       "      <td>110</td>\n",
       "    </tr>\n",
       "    <tr>\n",
       "      <th>2</th>\n",
       "      <td>9856</td>\n",
       "      <td>300</td>\n",
       "    </tr>\n",
       "    <tr>\n",
       "      <th>3</th>\n",
       "      <td>11063</td>\n",
       "      <td>1100</td>\n",
       "    </tr>\n",
       "    <tr>\n",
       "      <th>4</th>\n",
       "      <td>2314</td>\n",
       "      <td>500</td>\n",
       "    </tr>\n",
       "    <tr>\n",
       "      <th>5</th>\n",
       "      <td>6749</td>\n",
       "      <td>244</td>\n",
       "    </tr>\n",
       "    <tr>\n",
       "      <th>6</th>\n",
       "      <td>4346</td>\n",
       "      <td>213</td>\n",
       "    </tr>\n",
       "  </tbody>\n",
       "</table>\n",
       "</div>"
      ],
      "text/plain": [
       "   User ID  Total Sales\n",
       "0     7652           20\n",
       "1     1025          110\n",
       "2     9856          300\n",
       "3    11063         1100\n",
       "4     2314          500\n",
       "5     6749          244\n",
       "6     4346          213"
      ]
     },
     "execution_count": 23,
     "metadata": {},
     "output_type": "execute_result"
    }
   ],
   "source": [
    "exceldf[['User ID','Total Sales']]"
   ]
  },
  {
   "cell_type": "markdown",
   "metadata": {
    "slideshow": {
     "slide_type": "subslide"
    }
   },
   "source": [
    "### Or slice by rows"
   ]
  },
  {
   "cell_type": "code",
   "execution_count": 24,
   "metadata": {
    "slideshow": {
     "slide_type": "fragment"
    }
   },
   "outputs": [
    {
     "data": {
      "text/html": [
       "<div>\n",
       "<style scoped>\n",
       "    .dataframe tbody tr th:only-of-type {\n",
       "        vertical-align: middle;\n",
       "    }\n",
       "\n",
       "    .dataframe tbody tr th {\n",
       "        vertical-align: top;\n",
       "    }\n",
       "\n",
       "    .dataframe thead th {\n",
       "        text-align: right;\n",
       "    }\n",
       "</style>\n",
       "<table border=\"1\" class=\"dataframe\">\n",
       "  <thead>\n",
       "    <tr style=\"text-align: right;\">\n",
       "      <th></th>\n",
       "      <th>User ID</th>\n",
       "      <th>Join date</th>\n",
       "      <th>Total Sales</th>\n",
       "      <th>Status</th>\n",
       "    </tr>\n",
       "  </thead>\n",
       "  <tbody>\n",
       "    <tr>\n",
       "      <th>0</th>\n",
       "      <td>7652</td>\n",
       "      <td>2020-01-01</td>\n",
       "      <td>20</td>\n",
       "      <td>Staff</td>\n",
       "    </tr>\n",
       "    <tr>\n",
       "      <th>3</th>\n",
       "      <td>11063</td>\n",
       "      <td>2016-10-26</td>\n",
       "      <td>1100</td>\n",
       "      <td>Staff</td>\n",
       "    </tr>\n",
       "    <tr>\n",
       "      <th>6</th>\n",
       "      <td>4346</td>\n",
       "      <td>2017-04-26</td>\n",
       "      <td>213</td>\n",
       "      <td>Guest</td>\n",
       "    </tr>\n",
       "  </tbody>\n",
       "</table>\n",
       "</div>"
      ],
      "text/plain": [
       "   User ID  Join date  Total Sales Status\n",
       "0     7652 2020-01-01           20  Staff\n",
       "3    11063 2016-10-26         1100  Staff\n",
       "6     4346 2017-04-26          213  Guest"
      ]
     },
     "execution_count": 24,
     "metadata": {},
     "output_type": "execute_result"
    }
   ],
   "source": [
    "exceldf[0::3]"
   ]
  },
  {
   "cell_type": "markdown",
   "metadata": {
    "slideshow": {
     "slide_type": "slide"
    }
   },
   "source": [
    "### Selection by label"
   ]
  },
  {
   "cell_type": "code",
   "execution_count": 25,
   "metadata": {
    "slideshow": {
     "slide_type": "fragment"
    }
   },
   "outputs": [
    {
     "data": {
      "text/html": [
       "<div>\n",
       "<style scoped>\n",
       "    .dataframe tbody tr th:only-of-type {\n",
       "        vertical-align: middle;\n",
       "    }\n",
       "\n",
       "    .dataframe tbody tr th {\n",
       "        vertical-align: top;\n",
       "    }\n",
       "\n",
       "    .dataframe thead th {\n",
       "        text-align: right;\n",
       "    }\n",
       "</style>\n",
       "<table border=\"1\" class=\"dataframe\">\n",
       "  <thead>\n",
       "    <tr style=\"text-align: right;\">\n",
       "      <th></th>\n",
       "      <th>User ID</th>\n",
       "      <th>Join date</th>\n",
       "      <th>Total Sales</th>\n",
       "      <th>Status</th>\n",
       "    </tr>\n",
       "  </thead>\n",
       "  <tbody>\n",
       "    <tr>\n",
       "      <th>1</th>\n",
       "      <td>1025</td>\n",
       "      <td>2015-02-01</td>\n",
       "      <td>110</td>\n",
       "      <td>Guest</td>\n",
       "    </tr>\n",
       "    <tr>\n",
       "      <th>2</th>\n",
       "      <td>9856</td>\n",
       "      <td>2017-04-26</td>\n",
       "      <td>300</td>\n",
       "      <td>Guest</td>\n",
       "    </tr>\n",
       "    <tr>\n",
       "      <th>6</th>\n",
       "      <td>4346</td>\n",
       "      <td>2017-04-26</td>\n",
       "      <td>213</td>\n",
       "      <td>Guest</td>\n",
       "    </tr>\n",
       "  </tbody>\n",
       "</table>\n",
       "</div>"
      ],
      "text/plain": [
       "   User ID  Join date  Total Sales Status\n",
       "1     1025 2015-02-01          110  Guest\n",
       "2     9856 2017-04-26          300  Guest\n",
       "6     4346 2017-04-26          213  Guest"
      ]
     },
     "execution_count": 25,
     "metadata": {},
     "output_type": "execute_result"
    }
   ],
   "source": [
    "exceldf[exceldf['Status']==\"Guest\"]"
   ]
  },
  {
   "cell_type": "markdown",
   "metadata": {
    "slideshow": {
     "slide_type": "subslide"
    }
   },
   "source": [
    "### Conditional selections"
   ]
  },
  {
   "cell_type": "code",
   "execution_count": 26,
   "metadata": {
    "slideshow": {
     "slide_type": "fragment"
    }
   },
   "outputs": [
    {
     "data": {
      "text/html": [
       "<div>\n",
       "<style scoped>\n",
       "    .dataframe tbody tr th:only-of-type {\n",
       "        vertical-align: middle;\n",
       "    }\n",
       "\n",
       "    .dataframe tbody tr th {\n",
       "        vertical-align: top;\n",
       "    }\n",
       "\n",
       "    .dataframe thead th {\n",
       "        text-align: right;\n",
       "    }\n",
       "</style>\n",
       "<table border=\"1\" class=\"dataframe\">\n",
       "  <thead>\n",
       "    <tr style=\"text-align: right;\">\n",
       "      <th></th>\n",
       "      <th>User ID</th>\n",
       "      <th>Join date</th>\n",
       "      <th>Total Sales</th>\n",
       "      <th>Status</th>\n",
       "    </tr>\n",
       "  </thead>\n",
       "  <tbody>\n",
       "    <tr>\n",
       "      <th>0</th>\n",
       "      <td>7652</td>\n",
       "      <td>2020-01-01</td>\n",
       "      <td>20</td>\n",
       "      <td>Staff</td>\n",
       "    </tr>\n",
       "    <tr>\n",
       "      <th>4</th>\n",
       "      <td>2314</td>\n",
       "      <td>2019-01-13</td>\n",
       "      <td>500</td>\n",
       "      <td>Staff</td>\n",
       "    </tr>\n",
       "  </tbody>\n",
       "</table>\n",
       "</div>"
      ],
      "text/plain": [
       "   User ID  Join date  Total Sales Status\n",
       "0     7652 2020-01-01           20  Staff\n",
       "4     2314 2019-01-13          500  Staff"
      ]
     },
     "execution_count": 26,
     "metadata": {},
     "output_type": "execute_result"
    }
   ],
   "source": [
    "exceldf[(exceldf['Join date']>='2018') & (exceldf['Status']=='Staff')]"
   ]
  },
  {
   "cell_type": "code",
   "execution_count": 27,
   "metadata": {
    "slideshow": {
     "slide_type": "fragment"
    }
   },
   "outputs": [
    {
     "data": {
      "text/html": [
       "<div>\n",
       "<style scoped>\n",
       "    .dataframe tbody tr th:only-of-type {\n",
       "        vertical-align: middle;\n",
       "    }\n",
       "\n",
       "    .dataframe tbody tr th {\n",
       "        vertical-align: top;\n",
       "    }\n",
       "\n",
       "    .dataframe thead th {\n",
       "        text-align: right;\n",
       "    }\n",
       "</style>\n",
       "<table border=\"1\" class=\"dataframe\">\n",
       "  <thead>\n",
       "    <tr style=\"text-align: right;\">\n",
       "      <th></th>\n",
       "      <th>User ID</th>\n",
       "      <th>Join date</th>\n",
       "      <th>Total Sales</th>\n",
       "      <th>Status</th>\n",
       "    </tr>\n",
       "  </thead>\n",
       "  <tbody>\n",
       "    <tr>\n",
       "      <th>3</th>\n",
       "      <td>11063</td>\n",
       "      <td>2016-10-26</td>\n",
       "      <td>1100</td>\n",
       "      <td>Staff</td>\n",
       "    </tr>\n",
       "  </tbody>\n",
       "</table>\n",
       "</div>"
      ],
      "text/plain": [
       "   User ID  Join date  Total Sales Status\n",
       "3    11063 2016-10-26         1100  Staff"
      ]
     },
     "execution_count": 27,
     "metadata": {},
     "output_type": "execute_result"
    }
   ],
   "source": [
    "exceldf[(exceldf['Join date']<'2018') & (exceldf['Status']=='Staff')]"
   ]
  },
  {
   "cell_type": "markdown",
   "metadata": {
    "slideshow": {
     "slide_type": "slide"
    }
   },
   "source": [
    "### Change the index of your dataframe\n",
    "In this case make the index run from 1 to the total number of rows of your dataframe"
   ]
  },
  {
   "cell_type": "code",
   "execution_count": 28,
   "metadata": {
    "slideshow": {
     "slide_type": "fragment"
    }
   },
   "outputs": [],
   "source": [
    "exceldf.index = np.arange(1,len(exceldf)+1)"
   ]
  },
  {
   "cell_type": "markdown",
   "metadata": {
    "slideshow": {
     "slide_type": "subslide"
    }
   },
   "source": [
    "### Locate row by index value"
   ]
  },
  {
   "cell_type": "code",
   "execution_count": 29,
   "metadata": {
    "slideshow": {
     "slide_type": "fragment"
    }
   },
   "outputs": [
    {
     "data": {
      "text/plain": [
       "User ID                       7652\n",
       "Join date      2020-01-01 00:00:00\n",
       "Total Sales                     20\n",
       "Status                       Staff\n",
       "Name: 1, dtype: object"
      ]
     },
     "execution_count": 29,
     "metadata": {},
     "output_type": "execute_result"
    }
   ],
   "source": [
    "exceldf.loc[1]"
   ]
  },
  {
   "cell_type": "markdown",
   "metadata": {
    "slideshow": {
     "slide_type": "subslide"
    }
   },
   "source": [
    "### Locate row by index position (remember first element is 0!)"
   ]
  },
  {
   "cell_type": "code",
   "execution_count": 30,
   "metadata": {
    "slideshow": {
     "slide_type": "fragment"
    }
   },
   "outputs": [
    {
     "data": {
      "text/plain": [
       "User ID                       7652\n",
       "Join date      2020-01-01 00:00:00\n",
       "Total Sales                     20\n",
       "Status                       Staff\n",
       "Name: 1, dtype: object"
      ]
     },
     "execution_count": 30,
     "metadata": {},
     "output_type": "execute_result"
    }
   ],
   "source": [
    "exceldf.iloc[0]"
   ]
  },
  {
   "cell_type": "markdown",
   "metadata": {
    "slideshow": {
     "slide_type": "subslide"
    }
   },
   "source": [
    "### Adding a new column (length of values much match length of index)"
   ]
  },
  {
   "cell_type": "code",
   "execution_count": 31,
   "metadata": {
    "slideshow": {
     "slide_type": "fragment"
    }
   },
   "outputs": [
    {
     "data": {
      "text/html": [
       "<div>\n",
       "<style scoped>\n",
       "    .dataframe tbody tr th:only-of-type {\n",
       "        vertical-align: middle;\n",
       "    }\n",
       "\n",
       "    .dataframe tbody tr th {\n",
       "        vertical-align: top;\n",
       "    }\n",
       "\n",
       "    .dataframe thead th {\n",
       "        text-align: right;\n",
       "    }\n",
       "</style>\n",
       "<table border=\"1\" class=\"dataframe\">\n",
       "  <thead>\n",
       "    <tr style=\"text-align: right;\">\n",
       "      <th></th>\n",
       "      <th>User ID</th>\n",
       "      <th>Join date</th>\n",
       "      <th>Total Sales</th>\n",
       "      <th>Status</th>\n",
       "      <th>Signed up for Mailing List?</th>\n",
       "    </tr>\n",
       "  </thead>\n",
       "  <tbody>\n",
       "    <tr>\n",
       "      <th>1</th>\n",
       "      <td>7652</td>\n",
       "      <td>2020-01-01</td>\n",
       "      <td>20</td>\n",
       "      <td>Staff</td>\n",
       "      <td>Yes</td>\n",
       "    </tr>\n",
       "    <tr>\n",
       "      <th>2</th>\n",
       "      <td>1025</td>\n",
       "      <td>2015-02-01</td>\n",
       "      <td>110</td>\n",
       "      <td>Guest</td>\n",
       "      <td>No</td>\n",
       "    </tr>\n",
       "    <tr>\n",
       "      <th>3</th>\n",
       "      <td>9856</td>\n",
       "      <td>2017-04-26</td>\n",
       "      <td>300</td>\n",
       "      <td>Guest</td>\n",
       "      <td>No</td>\n",
       "    </tr>\n",
       "    <tr>\n",
       "      <th>4</th>\n",
       "      <td>11063</td>\n",
       "      <td>2016-10-26</td>\n",
       "      <td>1100</td>\n",
       "      <td>Staff</td>\n",
       "      <td>No</td>\n",
       "    </tr>\n",
       "    <tr>\n",
       "      <th>5</th>\n",
       "      <td>2314</td>\n",
       "      <td>2019-01-13</td>\n",
       "      <td>500</td>\n",
       "      <td>Staff</td>\n",
       "      <td>NaN</td>\n",
       "    </tr>\n",
       "    <tr>\n",
       "      <th>6</th>\n",
       "      <td>6749</td>\n",
       "      <td>2018-05-11</td>\n",
       "      <td>244</td>\n",
       "      <td>Guest</td>\n",
       "      <td>Yes</td>\n",
       "    </tr>\n",
       "    <tr>\n",
       "      <th>7</th>\n",
       "      <td>4346</td>\n",
       "      <td>2017-04-26</td>\n",
       "      <td>213</td>\n",
       "      <td>Guest</td>\n",
       "      <td>No</td>\n",
       "    </tr>\n",
       "  </tbody>\n",
       "</table>\n",
       "</div>"
      ],
      "text/plain": [
       "   User ID  Join date  Total Sales  Status Signed up for Mailing List?\n",
       "1     7652 2020-01-01           20   Staff                         Yes\n",
       "2     1025 2015-02-01          110   Guest                          No\n",
       "3     9856 2017-04-26          300   Guest                          No\n",
       "4    11063 2016-10-26         1100   Staff                          No\n",
       "5     2314 2019-01-13          500   Staff                         NaN\n",
       "6     6749 2018-05-11          244  Guest                          Yes\n",
       "7     4346 2017-04-26          213   Guest                          No"
      ]
     },
     "execution_count": 31,
     "metadata": {},
     "output_type": "execute_result"
    }
   ],
   "source": [
    "mailingList=['Yes','No','No','No',np.nan,'Yes','No']\n",
    "exceldf['Signed up for Mailing List?']=mailingList\n",
    "exceldf"
   ]
  },
  {
   "cell_type": "markdown",
   "metadata": {
    "slideshow": {
     "slide_type": "subslide"
    }
   },
   "source": [
    "Can also find missing data in DataFrames, replace it with a value of your choice"
   ]
  },
  {
   "cell_type": "code",
   "execution_count": 33,
   "metadata": {
    "slideshow": {
     "slide_type": "fragment"
    }
   },
   "outputs": [
    {
     "data": {
      "text/html": [
       "<div>\n",
       "<style scoped>\n",
       "    .dataframe tbody tr th:only-of-type {\n",
       "        vertical-align: middle;\n",
       "    }\n",
       "\n",
       "    .dataframe tbody tr th {\n",
       "        vertical-align: top;\n",
       "    }\n",
       "\n",
       "    .dataframe thead th {\n",
       "        text-align: right;\n",
       "    }\n",
       "</style>\n",
       "<table border=\"1\" class=\"dataframe\">\n",
       "  <thead>\n",
       "    <tr style=\"text-align: right;\">\n",
       "      <th></th>\n",
       "      <th>User ID</th>\n",
       "      <th>Join date</th>\n",
       "      <th>Total Sales</th>\n",
       "      <th>Status</th>\n",
       "      <th>Signed up for Mailing List?</th>\n",
       "    </tr>\n",
       "  </thead>\n",
       "  <tbody>\n",
       "    <tr>\n",
       "      <th>1</th>\n",
       "      <td>7652</td>\n",
       "      <td>2020-01-01</td>\n",
       "      <td>20</td>\n",
       "      <td>Staff</td>\n",
       "      <td>Yes</td>\n",
       "    </tr>\n",
       "    <tr>\n",
       "      <th>2</th>\n",
       "      <td>1025</td>\n",
       "      <td>2015-02-01</td>\n",
       "      <td>110</td>\n",
       "      <td>Guest</td>\n",
       "      <td>No</td>\n",
       "    </tr>\n",
       "    <tr>\n",
       "      <th>3</th>\n",
       "      <td>9856</td>\n",
       "      <td>2017-04-26</td>\n",
       "      <td>300</td>\n",
       "      <td>Guest</td>\n",
       "      <td>No</td>\n",
       "    </tr>\n",
       "    <tr>\n",
       "      <th>4</th>\n",
       "      <td>11063</td>\n",
       "      <td>2016-10-26</td>\n",
       "      <td>1100</td>\n",
       "      <td>Staff</td>\n",
       "      <td>No</td>\n",
       "    </tr>\n",
       "    <tr>\n",
       "      <th>5</th>\n",
       "      <td>2314</td>\n",
       "      <td>2019-01-13</td>\n",
       "      <td>500</td>\n",
       "      <td>Staff</td>\n",
       "      <td>No</td>\n",
       "    </tr>\n",
       "    <tr>\n",
       "      <th>6</th>\n",
       "      <td>6749</td>\n",
       "      <td>2018-05-11</td>\n",
       "      <td>244</td>\n",
       "      <td>Guest</td>\n",
       "      <td>Yes</td>\n",
       "    </tr>\n",
       "    <tr>\n",
       "      <th>7</th>\n",
       "      <td>4346</td>\n",
       "      <td>2017-04-26</td>\n",
       "      <td>213</td>\n",
       "      <td>Guest</td>\n",
       "      <td>No</td>\n",
       "    </tr>\n",
       "  </tbody>\n",
       "</table>\n",
       "</div>"
      ],
      "text/plain": [
       "   User ID  Join date  Total Sales  Status Signed up for Mailing List?\n",
       "1     7652 2020-01-01           20   Staff                         Yes\n",
       "2     1025 2015-02-01          110   Guest                          No\n",
       "3     9856 2017-04-26          300   Guest                          No\n",
       "4    11063 2016-10-26         1100   Staff                          No\n",
       "5     2314 2019-01-13          500   Staff                          No\n",
       "6     6749 2018-05-11          244  Guest                          Yes\n",
       "7     4346 2017-04-26          213   Guest                          No"
      ]
     },
     "execution_count": 33,
     "metadata": {},
     "output_type": "execute_result"
    }
   ],
   "source": [
    "exceldf=exceldf.fillna(\"No\")\n",
    "exceldf"
   ]
  },
  {
   "cell_type": "code",
   "execution_count": 34,
   "metadata": {
    "slideshow": {
     "slide_type": "fragment"
    }
   },
   "outputs": [
    {
     "data": {
      "text/plain": [
       "1     staff\n",
       "2     guest\n",
       "3     guest\n",
       "4     staff\n",
       "5     staff\n",
       "6    guest \n",
       "7     guest\n",
       "Name: Status, dtype: object"
      ]
     },
     "execution_count": 34,
     "metadata": {},
     "output_type": "execute_result"
    }
   ],
   "source": [
    "exceldf['Status'].str.lower()"
   ]
  },
  {
   "cell_type": "markdown",
   "metadata": {
    "slideshow": {
     "slide_type": "slide"
    }
   },
   "source": [
    "### Merging dataframes\n",
    "Dataframes can be merged (similar to SQL join operations - see [this link](https://pandas.pydata.org/pandas-docs/stable/getting_started/comparison/comparison_with_sql.html) for more SQL-equivalent functionality!)\n",
    "\n",
    "Concatenate two dataframes:"
   ]
  },
  {
   "cell_type": "code",
   "execution_count": 35,
   "metadata": {
    "slideshow": {
     "slide_type": "fragment"
    }
   },
   "outputs": [
    {
     "data": {
      "text/html": [
       "<div>\n",
       "<style scoped>\n",
       "    .dataframe tbody tr th:only-of-type {\n",
       "        vertical-align: middle;\n",
       "    }\n",
       "\n",
       "    .dataframe tbody tr th {\n",
       "        vertical-align: top;\n",
       "    }\n",
       "\n",
       "    .dataframe thead th {\n",
       "        text-align: right;\n",
       "    }\n",
       "</style>\n",
       "<table border=\"1\" class=\"dataframe\">\n",
       "  <thead>\n",
       "    <tr style=\"text-align: right;\">\n",
       "      <th></th>\n",
       "      <th>User ID</th>\n",
       "      <th>Join date</th>\n",
       "      <th>Total Sales</th>\n",
       "      <th>Status</th>\n",
       "      <th>Signed up for Mailing List?</th>\n",
       "    </tr>\n",
       "  </thead>\n",
       "  <tbody>\n",
       "    <tr>\n",
       "      <th>0</th>\n",
       "      <td>232</td>\n",
       "      <td>2012-05-02</td>\n",
       "      <td>2000</td>\n",
       "      <td>Staff</td>\n",
       "      <td>No</td>\n",
       "    </tr>\n",
       "  </tbody>\n",
       "</table>\n",
       "</div>"
      ],
      "text/plain": [
       "  User ID  Join date Total Sales Status Signed up for Mailing List?\n",
       "0     232 2012-05-02        2000  Staff                          No"
      ]
     },
     "execution_count": 35,
     "metadata": {},
     "output_type": "execute_result"
    }
   ],
   "source": [
    "df = pd.DataFrame({'User ID': '232', 'Join date': pd.Timestamp('20120502'),\n",
    "                   'Total Sales': '2000','Status': 'Staff','Signed up for Mailing List?': 'No'\n",
    "                  }, index=[0])\n",
    "df"
   ]
  },
  {
   "cell_type": "code",
   "execution_count": 36,
   "metadata": {
    "slideshow": {
     "slide_type": "fragment"
    }
   },
   "outputs": [
    {
     "data": {
      "text/html": [
       "<div>\n",
       "<style scoped>\n",
       "    .dataframe tbody tr th:only-of-type {\n",
       "        vertical-align: middle;\n",
       "    }\n",
       "\n",
       "    .dataframe tbody tr th {\n",
       "        vertical-align: top;\n",
       "    }\n",
       "\n",
       "    .dataframe thead th {\n",
       "        text-align: right;\n",
       "    }\n",
       "</style>\n",
       "<table border=\"1\" class=\"dataframe\">\n",
       "  <thead>\n",
       "    <tr style=\"text-align: right;\">\n",
       "      <th></th>\n",
       "      <th>User ID</th>\n",
       "      <th>Join date</th>\n",
       "      <th>Total Sales</th>\n",
       "      <th>Status</th>\n",
       "      <th>Signed up for Mailing List?</th>\n",
       "    </tr>\n",
       "  </thead>\n",
       "  <tbody>\n",
       "    <tr>\n",
       "      <th>4</th>\n",
       "      <td>11063</td>\n",
       "      <td>2016-10-26</td>\n",
       "      <td>1100</td>\n",
       "      <td>Staff</td>\n",
       "      <td>No</td>\n",
       "    </tr>\n",
       "    <tr>\n",
       "      <th>5</th>\n",
       "      <td>2314</td>\n",
       "      <td>2019-01-13</td>\n",
       "      <td>500</td>\n",
       "      <td>Staff</td>\n",
       "      <td>No</td>\n",
       "    </tr>\n",
       "    <tr>\n",
       "      <th>6</th>\n",
       "      <td>6749</td>\n",
       "      <td>2018-05-11</td>\n",
       "      <td>244</td>\n",
       "      <td>Guest</td>\n",
       "      <td>Yes</td>\n",
       "    </tr>\n",
       "    <tr>\n",
       "      <th>7</th>\n",
       "      <td>4346</td>\n",
       "      <td>2017-04-26</td>\n",
       "      <td>213</td>\n",
       "      <td>Guest</td>\n",
       "      <td>No</td>\n",
       "    </tr>\n",
       "    <tr>\n",
       "      <th>0</th>\n",
       "      <td>232</td>\n",
       "      <td>2012-05-02</td>\n",
       "      <td>2000</td>\n",
       "      <td>Staff</td>\n",
       "      <td>No</td>\n",
       "    </tr>\n",
       "  </tbody>\n",
       "</table>\n",
       "</div>"
      ],
      "text/plain": [
       "  User ID  Join date Total Sales  Status Signed up for Mailing List?\n",
       "4   11063 2016-10-26        1100   Staff                          No\n",
       "5    2314 2019-01-13         500   Staff                          No\n",
       "6    6749 2018-05-11         244  Guest                          Yes\n",
       "7    4346 2017-04-26         213   Guest                          No\n",
       "0     232 2012-05-02        2000   Staff                          No"
      ]
     },
     "execution_count": 36,
     "metadata": {},
     "output_type": "execute_result"
    }
   ],
   "source": [
    "pd.concat([exceldf,df]).tail(5)"
   ]
  },
  {
   "cell_type": "markdown",
   "metadata": {
    "slideshow": {
     "slide_type": "subslide"
    }
   },
   "source": [
    "Import a second csv as a dataframe:"
   ]
  },
  {
   "cell_type": "code",
   "execution_count": 37,
   "metadata": {
    "slideshow": {
     "slide_type": "fragment"
    }
   },
   "outputs": [
    {
     "data": {
      "text/html": [
       "<div>\n",
       "<style scoped>\n",
       "    .dataframe tbody tr th:only-of-type {\n",
       "        vertical-align: middle;\n",
       "    }\n",
       "\n",
       "    .dataframe tbody tr th {\n",
       "        vertical-align: top;\n",
       "    }\n",
       "\n",
       "    .dataframe thead th {\n",
       "        text-align: right;\n",
       "    }\n",
       "</style>\n",
       "<table border=\"1\" class=\"dataframe\">\n",
       "  <thead>\n",
       "    <tr style=\"text-align: right;\">\n",
       "      <th></th>\n",
       "      <th>User ID</th>\n",
       "      <th>Status</th>\n",
       "      <th>Age</th>\n",
       "    </tr>\n",
       "  </thead>\n",
       "  <tbody>\n",
       "    <tr>\n",
       "      <th>0</th>\n",
       "      <td>7652</td>\n",
       "      <td>Staff</td>\n",
       "      <td>37</td>\n",
       "    </tr>\n",
       "    <tr>\n",
       "      <th>1</th>\n",
       "      <td>1025</td>\n",
       "      <td>Guest</td>\n",
       "      <td>54</td>\n",
       "    </tr>\n",
       "    <tr>\n",
       "      <th>2</th>\n",
       "      <td>9856</td>\n",
       "      <td>Guest</td>\n",
       "      <td>29</td>\n",
       "    </tr>\n",
       "    <tr>\n",
       "      <th>3</th>\n",
       "      <td>11063</td>\n",
       "      <td>Staff</td>\n",
       "      <td>62</td>\n",
       "    </tr>\n",
       "    <tr>\n",
       "      <th>4</th>\n",
       "      <td>2314</td>\n",
       "      <td>Staff</td>\n",
       "      <td>35</td>\n",
       "    </tr>\n",
       "    <tr>\n",
       "      <th>5</th>\n",
       "      <td>6749</td>\n",
       "      <td>Guest</td>\n",
       "      <td>44</td>\n",
       "    </tr>\n",
       "    <tr>\n",
       "      <th>6</th>\n",
       "      <td>4346</td>\n",
       "      <td>Guest</td>\n",
       "      <td>32</td>\n",
       "    </tr>\n",
       "  </tbody>\n",
       "</table>\n",
       "</div>"
      ],
      "text/plain": [
       "   User ID   Status  Age\n",
       "0      7652   Staff   37\n",
       "1      1025   Guest   54\n",
       "2      9856   Guest   29\n",
       "3     11063   Staff   62\n",
       "4      2314   Staff   35\n",
       "5      6749  Guest    44\n",
       "6      4346   Guest   32"
      ]
     },
     "execution_count": 37,
     "metadata": {},
     "output_type": "execute_result"
    }
   ],
   "source": [
    "exceldf2=pd.read_csv(\"data/Pandas_example_extra_csv.csv\")\n",
    "exceldf2"
   ]
  },
  {
   "cell_type": "code",
   "execution_count": 38,
   "metadata": {
    "slideshow": {
     "slide_type": "subslide"
    }
   },
   "outputs": [],
   "source": [
    "exceldf2.columns=exceldf2.columns.str.rstrip()"
   ]
  },
  {
   "cell_type": "markdown",
   "metadata": {
    "slideshow": {
     "slide_type": "fragment"
    }
   },
   "source": [
    "Perform a join-style merge"
   ]
  },
  {
   "cell_type": "code",
   "execution_count": 39,
   "metadata": {
    "slideshow": {
     "slide_type": "fragment"
    }
   },
   "outputs": [
    {
     "data": {
      "text/html": [
       "<div>\n",
       "<style scoped>\n",
       "    .dataframe tbody tr th:only-of-type {\n",
       "        vertical-align: middle;\n",
       "    }\n",
       "\n",
       "    .dataframe tbody tr th {\n",
       "        vertical-align: top;\n",
       "    }\n",
       "\n",
       "    .dataframe thead th {\n",
       "        text-align: right;\n",
       "    }\n",
       "</style>\n",
       "<table border=\"1\" class=\"dataframe\">\n",
       "  <thead>\n",
       "    <tr style=\"text-align: right;\">\n",
       "      <th></th>\n",
       "      <th>User ID</th>\n",
       "      <th>Join date</th>\n",
       "      <th>Total Sales</th>\n",
       "      <th>Status</th>\n",
       "      <th>Signed up for Mailing List?</th>\n",
       "      <th>Age</th>\n",
       "    </tr>\n",
       "  </thead>\n",
       "  <tbody>\n",
       "    <tr>\n",
       "      <th>0</th>\n",
       "      <td>7652</td>\n",
       "      <td>2020-01-01</td>\n",
       "      <td>20</td>\n",
       "      <td>Staff</td>\n",
       "      <td>Yes</td>\n",
       "      <td>37</td>\n",
       "    </tr>\n",
       "    <tr>\n",
       "      <th>1</th>\n",
       "      <td>1025</td>\n",
       "      <td>2015-02-01</td>\n",
       "      <td>110</td>\n",
       "      <td>Guest</td>\n",
       "      <td>No</td>\n",
       "      <td>54</td>\n",
       "    </tr>\n",
       "    <tr>\n",
       "      <th>2</th>\n",
       "      <td>9856</td>\n",
       "      <td>2017-04-26</td>\n",
       "      <td>300</td>\n",
       "      <td>Guest</td>\n",
       "      <td>No</td>\n",
       "      <td>29</td>\n",
       "    </tr>\n",
       "    <tr>\n",
       "      <th>3</th>\n",
       "      <td>11063</td>\n",
       "      <td>2016-10-26</td>\n",
       "      <td>1100</td>\n",
       "      <td>Staff</td>\n",
       "      <td>No</td>\n",
       "      <td>62</td>\n",
       "    </tr>\n",
       "    <tr>\n",
       "      <th>4</th>\n",
       "      <td>2314</td>\n",
       "      <td>2019-01-13</td>\n",
       "      <td>500</td>\n",
       "      <td>Staff</td>\n",
       "      <td>No</td>\n",
       "      <td>35</td>\n",
       "    </tr>\n",
       "    <tr>\n",
       "      <th>5</th>\n",
       "      <td>6749</td>\n",
       "      <td>2018-05-11</td>\n",
       "      <td>244</td>\n",
       "      <td>Guest</td>\n",
       "      <td>Yes</td>\n",
       "      <td>44</td>\n",
       "    </tr>\n",
       "    <tr>\n",
       "      <th>6</th>\n",
       "      <td>4346</td>\n",
       "      <td>2017-04-26</td>\n",
       "      <td>213</td>\n",
       "      <td>Guest</td>\n",
       "      <td>No</td>\n",
       "      <td>32</td>\n",
       "    </tr>\n",
       "  </tbody>\n",
       "</table>\n",
       "</div>"
      ],
      "text/plain": [
       "   User ID  Join date  Total Sales  Status Signed up for Mailing List?  Age\n",
       "0     7652 2020-01-01           20   Staff                         Yes   37\n",
       "1     1025 2015-02-01          110   Guest                          No   54\n",
       "2     9856 2017-04-26          300   Guest                          No   29\n",
       "3    11063 2016-10-26         1100   Staff                          No   62\n",
       "4     2314 2019-01-13          500   Staff                          No   35\n",
       "5     6749 2018-05-11          244  Guest                          Yes   44\n",
       "6     4346 2017-04-26          213   Guest                          No   32"
      ]
     },
     "execution_count": 39,
     "metadata": {},
     "output_type": "execute_result"
    }
   ],
   "source": [
    "mergedDF=pd.merge(exceldf, exceldf2, on=['User ID','Status'])\n",
    "mergedDF"
   ]
  },
  {
   "cell_type": "markdown",
   "metadata": {
    "slideshow": {
     "slide_type": "subslide"
    }
   },
   "source": [
    "Make the User ID column the index"
   ]
  },
  {
   "cell_type": "code",
   "execution_count": 42,
   "metadata": {
    "slideshow": {
     "slide_type": "fragment"
    }
   },
   "outputs": [
    {
     "data": {
      "text/html": [
       "<div>\n",
       "<style scoped>\n",
       "    .dataframe tbody tr th:only-of-type {\n",
       "        vertical-align: middle;\n",
       "    }\n",
       "\n",
       "    .dataframe tbody tr th {\n",
       "        vertical-align: top;\n",
       "    }\n",
       "\n",
       "    .dataframe thead th {\n",
       "        text-align: right;\n",
       "    }\n",
       "</style>\n",
       "<table border=\"1\" class=\"dataframe\">\n",
       "  <thead>\n",
       "    <tr style=\"text-align: right;\">\n",
       "      <th></th>\n",
       "      <th>Join date</th>\n",
       "      <th>Total Sales</th>\n",
       "      <th>Status</th>\n",
       "      <th>Signed up for Mailing List?</th>\n",
       "      <th>Age</th>\n",
       "    </tr>\n",
       "    <tr>\n",
       "      <th>User ID</th>\n",
       "      <th></th>\n",
       "      <th></th>\n",
       "      <th></th>\n",
       "      <th></th>\n",
       "      <th></th>\n",
       "    </tr>\n",
       "  </thead>\n",
       "  <tbody>\n",
       "    <tr>\n",
       "      <th>7652</th>\n",
       "      <td>2020-01-01</td>\n",
       "      <td>20</td>\n",
       "      <td>Staff</td>\n",
       "      <td>Yes</td>\n",
       "      <td>37</td>\n",
       "    </tr>\n",
       "    <tr>\n",
       "      <th>1025</th>\n",
       "      <td>2015-02-01</td>\n",
       "      <td>110</td>\n",
       "      <td>Guest</td>\n",
       "      <td>No</td>\n",
       "      <td>54</td>\n",
       "    </tr>\n",
       "    <tr>\n",
       "      <th>9856</th>\n",
       "      <td>2017-04-26</td>\n",
       "      <td>300</td>\n",
       "      <td>Guest</td>\n",
       "      <td>No</td>\n",
       "      <td>29</td>\n",
       "    </tr>\n",
       "    <tr>\n",
       "      <th>11063</th>\n",
       "      <td>2016-10-26</td>\n",
       "      <td>1100</td>\n",
       "      <td>Staff</td>\n",
       "      <td>No</td>\n",
       "      <td>62</td>\n",
       "    </tr>\n",
       "    <tr>\n",
       "      <th>2314</th>\n",
       "      <td>2019-01-13</td>\n",
       "      <td>500</td>\n",
       "      <td>Staff</td>\n",
       "      <td>No</td>\n",
       "      <td>35</td>\n",
       "    </tr>\n",
       "    <tr>\n",
       "      <th>6749</th>\n",
       "      <td>2018-05-11</td>\n",
       "      <td>244</td>\n",
       "      <td>Guest</td>\n",
       "      <td>Yes</td>\n",
       "      <td>44</td>\n",
       "    </tr>\n",
       "    <tr>\n",
       "      <th>4346</th>\n",
       "      <td>2017-04-26</td>\n",
       "      <td>213</td>\n",
       "      <td>Guest</td>\n",
       "      <td>No</td>\n",
       "      <td>32</td>\n",
       "    </tr>\n",
       "  </tbody>\n",
       "</table>\n",
       "</div>"
      ],
      "text/plain": [
       "         Join date  Total Sales  Status Signed up for Mailing List?  Age\n",
       "User ID                                                                 \n",
       "7652    2020-01-01           20   Staff                         Yes   37\n",
       "1025    2015-02-01          110   Guest                          No   54\n",
       "9856    2017-04-26          300   Guest                          No   29\n",
       "11063   2016-10-26         1100   Staff                          No   62\n",
       "2314    2019-01-13          500   Staff                          No   35\n",
       "6749    2018-05-11          244  Guest                          Yes   44\n",
       "4346    2017-04-26          213   Guest                          No   32"
      ]
     },
     "execution_count": 42,
     "metadata": {},
     "output_type": "execute_result"
    }
   ],
   "source": [
    "mergedDF.set_index(\"User ID\", drop = True, inplace = True)\n",
    "mergedDF"
   ]
  },
  {
   "cell_type": "markdown",
   "metadata": {
    "slideshow": {
     "slide_type": "slide"
    }
   },
   "source": [
    "### Grouping dataframes"
   ]
  },
  {
   "cell_type": "code",
   "execution_count": 43,
   "metadata": {
    "slideshow": {
     "slide_type": "fragment"
    }
   },
   "outputs": [
    {
     "data": {
      "text/html": [
       "<div>\n",
       "<style scoped>\n",
       "    .dataframe tbody tr th:only-of-type {\n",
       "        vertical-align: middle;\n",
       "    }\n",
       "\n",
       "    .dataframe tbody tr th {\n",
       "        vertical-align: top;\n",
       "    }\n",
       "\n",
       "    .dataframe thead th {\n",
       "        text-align: right;\n",
       "    }\n",
       "</style>\n",
       "<table border=\"1\" class=\"dataframe\">\n",
       "  <thead>\n",
       "    <tr style=\"text-align: right;\">\n",
       "      <th></th>\n",
       "      <th>Total Sales</th>\n",
       "      <th>Age</th>\n",
       "    </tr>\n",
       "    <tr>\n",
       "      <th>Status</th>\n",
       "      <th></th>\n",
       "      <th></th>\n",
       "    </tr>\n",
       "  </thead>\n",
       "  <tbody>\n",
       "    <tr>\n",
       "      <th>Guest</th>\n",
       "      <td>207.666667</td>\n",
       "      <td>38.333333</td>\n",
       "    </tr>\n",
       "    <tr>\n",
       "      <th>Guest</th>\n",
       "      <td>244.000000</td>\n",
       "      <td>44.000000</td>\n",
       "    </tr>\n",
       "    <tr>\n",
       "      <th>Staff</th>\n",
       "      <td>540.000000</td>\n",
       "      <td>44.666667</td>\n",
       "    </tr>\n",
       "  </tbody>\n",
       "</table>\n",
       "</div>"
      ],
      "text/plain": [
       "        Total Sales        Age\n",
       "Status                        \n",
       "Guest    207.666667  38.333333\n",
       "Guest    244.000000  44.000000\n",
       "Staff    540.000000  44.666667"
      ]
     },
     "execution_count": 43,
     "metadata": {},
     "output_type": "execute_result"
    }
   ],
   "source": [
    "mergedDF.groupby(\"Status\").mean()"
   ]
  },
  {
   "cell_type": "markdown",
   "metadata": {
    "slideshow": {
     "slide_type": "fragment"
    }
   },
   "source": [
    "```Guest``` appears twice, why? "
   ]
  },
  {
   "cell_type": "code",
   "execution_count": 44,
   "metadata": {
    "slideshow": {
     "slide_type": "subslide"
    }
   },
   "outputs": [
    {
     "data": {
      "text/plain": [
       "array(['Staff', 'Guest', 'Guest', 'Staff', 'Staff', 'Guest ', 'Guest'],\n",
       "      dtype=object)"
      ]
     },
     "execution_count": 44,
     "metadata": {},
     "output_type": "execute_result"
    }
   ],
   "source": [
    "mergedDF['Status'].to_numpy() # converts pandas Series to numpy array"
   ]
  },
  {
   "cell_type": "markdown",
   "metadata": {
    "slideshow": {
     "slide_type": "fragment"
    }
   },
   "source": [
    "One of the entries has trailing whitespace, so remove it"
   ]
  },
  {
   "cell_type": "code",
   "execution_count": 45,
   "metadata": {
    "slideshow": {
     "slide_type": "fragment"
    }
   },
   "outputs": [
    {
     "data": {
      "text/plain": [
       "array(['Staff', 'Guest', 'Guest', 'Staff', 'Staff', 'Guest', 'Guest'],\n",
       "      dtype=object)"
      ]
     },
     "execution_count": 45,
     "metadata": {},
     "output_type": "execute_result"
    }
   ],
   "source": [
    "mergedDF['Status']=mergedDF['Status'].str.rstrip() # convert mergedDF['Status'] to strings before removing trailing whitespace\n",
    "mergedDF['Status'].to_numpy()"
   ]
  },
  {
   "cell_type": "code",
   "execution_count": 46,
   "metadata": {
    "slideshow": {
     "slide_type": "subslide"
    }
   },
   "outputs": [
    {
     "data": {
      "text/html": [
       "<div>\n",
       "<style scoped>\n",
       "    .dataframe tbody tr th:only-of-type {\n",
       "        vertical-align: middle;\n",
       "    }\n",
       "\n",
       "    .dataframe tbody tr th {\n",
       "        vertical-align: top;\n",
       "    }\n",
       "\n",
       "    .dataframe thead th {\n",
       "        text-align: right;\n",
       "    }\n",
       "</style>\n",
       "<table border=\"1\" class=\"dataframe\">\n",
       "  <thead>\n",
       "    <tr style=\"text-align: right;\">\n",
       "      <th></th>\n",
       "      <th>Total Sales</th>\n",
       "      <th>Age</th>\n",
       "    </tr>\n",
       "    <tr>\n",
       "      <th>Status</th>\n",
       "      <th></th>\n",
       "      <th></th>\n",
       "    </tr>\n",
       "  </thead>\n",
       "  <tbody>\n",
       "    <tr>\n",
       "      <th>Guest</th>\n",
       "      <td>216.75</td>\n",
       "      <td>39.750000</td>\n",
       "    </tr>\n",
       "    <tr>\n",
       "      <th>Staff</th>\n",
       "      <td>540.00</td>\n",
       "      <td>44.666667</td>\n",
       "    </tr>\n",
       "  </tbody>\n",
       "</table>\n",
       "</div>"
      ],
      "text/plain": [
       "        Total Sales        Age\n",
       "Status                        \n",
       "Guest        216.75  39.750000\n",
       "Staff        540.00  44.666667"
      ]
     },
     "execution_count": 46,
     "metadata": {},
     "output_type": "execute_result"
    }
   ],
   "source": [
    "mergedDF.groupby(\"Status\").mean()"
   ]
  },
  {
   "cell_type": "markdown",
   "metadata": {
    "slideshow": {
     "slide_type": "fragment"
    }
   },
   "source": [
    "Set float precision to 2 decimal places"
   ]
  },
  {
   "cell_type": "code",
   "execution_count": 47,
   "metadata": {
    "slideshow": {
     "slide_type": "fragment"
    }
   },
   "outputs": [
    {
     "data": {
      "text/html": [
       "<div>\n",
       "<style scoped>\n",
       "    .dataframe tbody tr th:only-of-type {\n",
       "        vertical-align: middle;\n",
       "    }\n",
       "\n",
       "    .dataframe tbody tr th {\n",
       "        vertical-align: top;\n",
       "    }\n",
       "\n",
       "    .dataframe thead th {\n",
       "        text-align: right;\n",
       "    }\n",
       "</style>\n",
       "<table border=\"1\" class=\"dataframe\">\n",
       "  <thead>\n",
       "    <tr style=\"text-align: right;\">\n",
       "      <th></th>\n",
       "      <th>Total Sales</th>\n",
       "      <th>Age</th>\n",
       "    </tr>\n",
       "    <tr>\n",
       "      <th>Status</th>\n",
       "      <th></th>\n",
       "      <th></th>\n",
       "    </tr>\n",
       "  </thead>\n",
       "  <tbody>\n",
       "    <tr>\n",
       "      <th>Guest</th>\n",
       "      <td>216.75</td>\n",
       "      <td>39.75</td>\n",
       "    </tr>\n",
       "    <tr>\n",
       "      <th>Staff</th>\n",
       "      <td>540.00</td>\n",
       "      <td>44.67</td>\n",
       "    </tr>\n",
       "  </tbody>\n",
       "</table>\n",
       "</div>"
      ],
      "text/plain": [
       "        Total Sales   Age\n",
       "Status                   \n",
       "Guest        216.75 39.75\n",
       "Staff        540.00 44.67"
      ]
     },
     "execution_count": 47,
     "metadata": {},
     "output_type": "execute_result"
    }
   ],
   "source": [
    "pd.options.display.float_format = '{:.2f}'.format\n",
    "mdfMeans=mergedDF.groupby(\"Status\").mean()\n",
    "mdfMeans"
   ]
  },
  {
   "cell_type": "markdown",
   "metadata": {
    "slideshow": {
     "slide_type": "slide"
    }
   },
   "source": [
    "### Can also append rows to your dataframe"
   ]
  },
  {
   "cell_type": "code",
   "execution_count": 48,
   "metadata": {
    "slideshow": {
     "slide_type": "fragment"
    }
   },
   "outputs": [
    {
     "data": {
      "text/html": [
       "<div>\n",
       "<style scoped>\n",
       "    .dataframe tbody tr th:only-of-type {\n",
       "        vertical-align: middle;\n",
       "    }\n",
       "\n",
       "    .dataframe tbody tr th {\n",
       "        vertical-align: top;\n",
       "    }\n",
       "\n",
       "    .dataframe thead th {\n",
       "        text-align: right;\n",
       "    }\n",
       "</style>\n",
       "<table border=\"1\" class=\"dataframe\">\n",
       "  <thead>\n",
       "    <tr style=\"text-align: right;\">\n",
       "      <th></th>\n",
       "      <th>Join date</th>\n",
       "      <th>Total Sales</th>\n",
       "      <th>Status</th>\n",
       "      <th>Signed up for Mailing List?</th>\n",
       "    </tr>\n",
       "    <tr>\n",
       "      <th>User ID</th>\n",
       "      <th></th>\n",
       "      <th></th>\n",
       "      <th></th>\n",
       "      <th></th>\n",
       "    </tr>\n",
       "  </thead>\n",
       "  <tbody>\n",
       "    <tr>\n",
       "      <th>1</th>\n",
       "      <td>2010-03-01</td>\n",
       "      <td>1963.38</td>\n",
       "      <td>Staff</td>\n",
       "      <td>Yes</td>\n",
       "    </tr>\n",
       "    <tr>\n",
       "      <th>2</th>\n",
       "      <td>2010-03-01</td>\n",
       "      <td>1423.36</td>\n",
       "      <td>Staff</td>\n",
       "      <td>Yes</td>\n",
       "    </tr>\n",
       "    <tr>\n",
       "      <th>3</th>\n",
       "      <td>2010-03-01</td>\n",
       "      <td>1776.50</td>\n",
       "      <td>Staff</td>\n",
       "      <td>Yes</td>\n",
       "    </tr>\n",
       "    <tr>\n",
       "      <th>4</th>\n",
       "      <td>2010-03-01</td>\n",
       "      <td>445.91</td>\n",
       "      <td>Staff</td>\n",
       "      <td>Yes</td>\n",
       "    </tr>\n",
       "    <tr>\n",
       "      <th>5</th>\n",
       "      <td>2010-03-01</td>\n",
       "      <td>1999.38</td>\n",
       "      <td>Staff</td>\n",
       "      <td>Yes</td>\n",
       "    </tr>\n",
       "  </tbody>\n",
       "</table>\n",
       "</div>"
      ],
      "text/plain": [
       "         Join date  Total Sales Status Signed up for Mailing List?\n",
       "User ID                                                           \n",
       "1       2010-03-01      1963.38  Staff                         Yes\n",
       "2       2010-03-01      1423.36  Staff                         Yes\n",
       "3       2010-03-01      1776.50  Staff                         Yes\n",
       "4       2010-03-01       445.91  Staff                         Yes\n",
       "5       2010-03-01      1999.38  Staff                         Yes"
      ]
     },
     "execution_count": 48,
     "metadata": {},
     "output_type": "execute_result"
    }
   ],
   "source": [
    "extraRows=pd.DataFrame({'User ID': np.arange(1,50),\n",
    "                       'Join date':pd.Timestamp('20100301'),\n",
    "                       'Total Sales': np.random.random_sample(49)*3000.,\n",
    "                       'Status': 'Staff',\n",
    "                       'Signed up for Mailing List?': 'Yes',\n",
    "                       })\n",
    "extraRows.set_index(\"User ID\", drop = True, inplace = True)\n",
    "extraRows.head(5)"
   ]
  },
  {
   "cell_type": "code",
   "execution_count": 50,
   "metadata": {
    "slideshow": {
     "slide_type": "subslide"
    }
   },
   "outputs": [
    {
     "data": {
      "text/html": [
       "<div>\n",
       "<style scoped>\n",
       "    .dataframe tbody tr th:only-of-type {\n",
       "        vertical-align: middle;\n",
       "    }\n",
       "\n",
       "    .dataframe tbody tr th {\n",
       "        vertical-align: top;\n",
       "    }\n",
       "\n",
       "    .dataframe thead th {\n",
       "        text-align: right;\n",
       "    }\n",
       "</style>\n",
       "<table border=\"1\" class=\"dataframe\">\n",
       "  <thead>\n",
       "    <tr style=\"text-align: right;\">\n",
       "      <th></th>\n",
       "      <th>Age</th>\n",
       "      <th>Join date</th>\n",
       "      <th>Signed up for Mailing List?</th>\n",
       "      <th>Status</th>\n",
       "      <th>Total Sales</th>\n",
       "    </tr>\n",
       "    <tr>\n",
       "      <th>User ID</th>\n",
       "      <th></th>\n",
       "      <th></th>\n",
       "      <th></th>\n",
       "      <th></th>\n",
       "      <th></th>\n",
       "    </tr>\n",
       "  </thead>\n",
       "  <tbody>\n",
       "    <tr>\n",
       "      <th>7652</th>\n",
       "      <td>37.00</td>\n",
       "      <td>2020-01-01</td>\n",
       "      <td>Yes</td>\n",
       "      <td>Staff</td>\n",
       "      <td>20.00</td>\n",
       "    </tr>\n",
       "    <tr>\n",
       "      <th>1025</th>\n",
       "      <td>54.00</td>\n",
       "      <td>2015-02-01</td>\n",
       "      <td>No</td>\n",
       "      <td>Guest</td>\n",
       "      <td>110.00</td>\n",
       "    </tr>\n",
       "    <tr>\n",
       "      <th>9856</th>\n",
       "      <td>29.00</td>\n",
       "      <td>2017-04-26</td>\n",
       "      <td>No</td>\n",
       "      <td>Guest</td>\n",
       "      <td>300.00</td>\n",
       "    </tr>\n",
       "    <tr>\n",
       "      <th>11063</th>\n",
       "      <td>62.00</td>\n",
       "      <td>2016-10-26</td>\n",
       "      <td>No</td>\n",
       "      <td>Staff</td>\n",
       "      <td>1100.00</td>\n",
       "    </tr>\n",
       "    <tr>\n",
       "      <th>2314</th>\n",
       "      <td>35.00</td>\n",
       "      <td>2019-01-13</td>\n",
       "      <td>No</td>\n",
       "      <td>Staff</td>\n",
       "      <td>500.00</td>\n",
       "    </tr>\n",
       "    <tr>\n",
       "      <th>6749</th>\n",
       "      <td>44.00</td>\n",
       "      <td>2018-05-11</td>\n",
       "      <td>Yes</td>\n",
       "      <td>Guest</td>\n",
       "      <td>244.00</td>\n",
       "    </tr>\n",
       "    <tr>\n",
       "      <th>4346</th>\n",
       "      <td>32.00</td>\n",
       "      <td>2017-04-26</td>\n",
       "      <td>No</td>\n",
       "      <td>Guest</td>\n",
       "      <td>213.00</td>\n",
       "    </tr>\n",
       "    <tr>\n",
       "      <th>...</th>\n",
       "      <td>...</td>\n",
       "      <td>...</td>\n",
       "      <td>...</td>\n",
       "      <td>...</td>\n",
       "      <td>...</td>\n",
       "    </tr>\n",
       "    <tr>\n",
       "      <th>43</th>\n",
       "      <td>nan</td>\n",
       "      <td>2010-03-01</td>\n",
       "      <td>Yes</td>\n",
       "      <td>Staff</td>\n",
       "      <td>2085.10</td>\n",
       "    </tr>\n",
       "    <tr>\n",
       "      <th>44</th>\n",
       "      <td>nan</td>\n",
       "      <td>2010-03-01</td>\n",
       "      <td>Yes</td>\n",
       "      <td>Staff</td>\n",
       "      <td>2833.57</td>\n",
       "    </tr>\n",
       "    <tr>\n",
       "      <th>45</th>\n",
       "      <td>nan</td>\n",
       "      <td>2010-03-01</td>\n",
       "      <td>Yes</td>\n",
       "      <td>Staff</td>\n",
       "      <td>2980.50</td>\n",
       "    </tr>\n",
       "    <tr>\n",
       "      <th>46</th>\n",
       "      <td>nan</td>\n",
       "      <td>2010-03-01</td>\n",
       "      <td>Yes</td>\n",
       "      <td>Staff</td>\n",
       "      <td>2404.34</td>\n",
       "    </tr>\n",
       "    <tr>\n",
       "      <th>47</th>\n",
       "      <td>nan</td>\n",
       "      <td>2010-03-01</td>\n",
       "      <td>Yes</td>\n",
       "      <td>Staff</td>\n",
       "      <td>2826.94</td>\n",
       "    </tr>\n",
       "    <tr>\n",
       "      <th>48</th>\n",
       "      <td>nan</td>\n",
       "      <td>2010-03-01</td>\n",
       "      <td>Yes</td>\n",
       "      <td>Staff</td>\n",
       "      <td>2684.12</td>\n",
       "    </tr>\n",
       "    <tr>\n",
       "      <th>49</th>\n",
       "      <td>nan</td>\n",
       "      <td>2010-03-01</td>\n",
       "      <td>Yes</td>\n",
       "      <td>Staff</td>\n",
       "      <td>2770.04</td>\n",
       "    </tr>\n",
       "  </tbody>\n",
       "</table>\n",
       "<p>56 rows × 5 columns</p>\n",
       "</div>"
      ],
      "text/plain": [
       "          Age  Join date Signed up for Mailing List? Status  Total Sales\n",
       "User ID                                                                 \n",
       "7652    37.00 2020-01-01                         Yes  Staff        20.00\n",
       "1025    54.00 2015-02-01                          No  Guest       110.00\n",
       "9856    29.00 2017-04-26                          No  Guest       300.00\n",
       "11063   62.00 2016-10-26                          No  Staff      1100.00\n",
       "2314    35.00 2019-01-13                          No  Staff       500.00\n",
       "6749    44.00 2018-05-11                         Yes  Guest       244.00\n",
       "4346    32.00 2017-04-26                          No  Guest       213.00\n",
       "...       ...        ...                         ...    ...          ...\n",
       "43        nan 2010-03-01                         Yes  Staff      2085.10\n",
       "44        nan 2010-03-01                         Yes  Staff      2833.57\n",
       "45        nan 2010-03-01                         Yes  Staff      2980.50\n",
       "46        nan 2010-03-01                         Yes  Staff      2404.34\n",
       "47        nan 2010-03-01                         Yes  Staff      2826.94\n",
       "48        nan 2010-03-01                         Yes  Staff      2684.12\n",
       "49        nan 2010-03-01                         Yes  Staff      2770.04\n",
       "\n",
       "[56 rows x 5 columns]"
      ]
     },
     "execution_count": 50,
     "metadata": {},
     "output_type": "execute_result"
    }
   ],
   "source": [
    "largeDF=mergedDF.append(extraRows)\n",
    "largeDF"
   ]
  },
  {
   "cell_type": "markdown",
   "metadata": {
    "slideshow": {
     "slide_type": "subslide"
    }
   },
   "source": [
    "Ages are mising, so can drop rows with no value, age column entirely or replace the nan values"
   ]
  },
  {
   "cell_type": "code",
   "execution_count": 51,
   "metadata": {
    "slideshow": {
     "slide_type": "fragment"
    }
   },
   "outputs": [
    {
     "data": {
      "text/html": [
       "<div>\n",
       "<style scoped>\n",
       "    .dataframe tbody tr th:only-of-type {\n",
       "        vertical-align: middle;\n",
       "    }\n",
       "\n",
       "    .dataframe tbody tr th {\n",
       "        vertical-align: top;\n",
       "    }\n",
       "\n",
       "    .dataframe thead th {\n",
       "        text-align: right;\n",
       "    }\n",
       "</style>\n",
       "<table border=\"1\" class=\"dataframe\">\n",
       "  <thead>\n",
       "    <tr style=\"text-align: right;\">\n",
       "      <th></th>\n",
       "      <th>Join date</th>\n",
       "      <th>Signed up for Mailing List?</th>\n",
       "      <th>Status</th>\n",
       "      <th>Total Sales</th>\n",
       "    </tr>\n",
       "    <tr>\n",
       "      <th>User ID</th>\n",
       "      <th></th>\n",
       "      <th></th>\n",
       "      <th></th>\n",
       "      <th></th>\n",
       "    </tr>\n",
       "  </thead>\n",
       "  <tbody>\n",
       "    <tr>\n",
       "      <th>7652</th>\n",
       "      <td>2020-01-01</td>\n",
       "      <td>Yes</td>\n",
       "      <td>Staff</td>\n",
       "      <td>20.00</td>\n",
       "    </tr>\n",
       "    <tr>\n",
       "      <th>1025</th>\n",
       "      <td>2015-02-01</td>\n",
       "      <td>No</td>\n",
       "      <td>Guest</td>\n",
       "      <td>110.00</td>\n",
       "    </tr>\n",
       "    <tr>\n",
       "      <th>9856</th>\n",
       "      <td>2017-04-26</td>\n",
       "      <td>No</td>\n",
       "      <td>Guest</td>\n",
       "      <td>300.00</td>\n",
       "    </tr>\n",
       "    <tr>\n",
       "      <th>11063</th>\n",
       "      <td>2016-10-26</td>\n",
       "      <td>No</td>\n",
       "      <td>Staff</td>\n",
       "      <td>1100.00</td>\n",
       "    </tr>\n",
       "    <tr>\n",
       "      <th>2314</th>\n",
       "      <td>2019-01-13</td>\n",
       "      <td>No</td>\n",
       "      <td>Staff</td>\n",
       "      <td>500.00</td>\n",
       "    </tr>\n",
       "    <tr>\n",
       "      <th>6749</th>\n",
       "      <td>2018-05-11</td>\n",
       "      <td>Yes</td>\n",
       "      <td>Guest</td>\n",
       "      <td>244.00</td>\n",
       "    </tr>\n",
       "    <tr>\n",
       "      <th>4346</th>\n",
       "      <td>2017-04-26</td>\n",
       "      <td>No</td>\n",
       "      <td>Guest</td>\n",
       "      <td>213.00</td>\n",
       "    </tr>\n",
       "    <tr>\n",
       "      <th>...</th>\n",
       "      <td>...</td>\n",
       "      <td>...</td>\n",
       "      <td>...</td>\n",
       "      <td>...</td>\n",
       "    </tr>\n",
       "    <tr>\n",
       "      <th>43</th>\n",
       "      <td>2010-03-01</td>\n",
       "      <td>Yes</td>\n",
       "      <td>Staff</td>\n",
       "      <td>2085.10</td>\n",
       "    </tr>\n",
       "    <tr>\n",
       "      <th>44</th>\n",
       "      <td>2010-03-01</td>\n",
       "      <td>Yes</td>\n",
       "      <td>Staff</td>\n",
       "      <td>2833.57</td>\n",
       "    </tr>\n",
       "    <tr>\n",
       "      <th>45</th>\n",
       "      <td>2010-03-01</td>\n",
       "      <td>Yes</td>\n",
       "      <td>Staff</td>\n",
       "      <td>2980.50</td>\n",
       "    </tr>\n",
       "    <tr>\n",
       "      <th>46</th>\n",
       "      <td>2010-03-01</td>\n",
       "      <td>Yes</td>\n",
       "      <td>Staff</td>\n",
       "      <td>2404.34</td>\n",
       "    </tr>\n",
       "    <tr>\n",
       "      <th>47</th>\n",
       "      <td>2010-03-01</td>\n",
       "      <td>Yes</td>\n",
       "      <td>Staff</td>\n",
       "      <td>2826.94</td>\n",
       "    </tr>\n",
       "    <tr>\n",
       "      <th>48</th>\n",
       "      <td>2010-03-01</td>\n",
       "      <td>Yes</td>\n",
       "      <td>Staff</td>\n",
       "      <td>2684.12</td>\n",
       "    </tr>\n",
       "    <tr>\n",
       "      <th>49</th>\n",
       "      <td>2010-03-01</td>\n",
       "      <td>Yes</td>\n",
       "      <td>Staff</td>\n",
       "      <td>2770.04</td>\n",
       "    </tr>\n",
       "  </tbody>\n",
       "</table>\n",
       "<p>56 rows × 4 columns</p>\n",
       "</div>"
      ],
      "text/plain": [
       "         Join date Signed up for Mailing List? Status  Total Sales\n",
       "User ID                                                           \n",
       "7652    2020-01-01                         Yes  Staff        20.00\n",
       "1025    2015-02-01                          No  Guest       110.00\n",
       "9856    2017-04-26                          No  Guest       300.00\n",
       "11063   2016-10-26                          No  Staff      1100.00\n",
       "2314    2019-01-13                          No  Staff       500.00\n",
       "6749    2018-05-11                         Yes  Guest       244.00\n",
       "4346    2017-04-26                          No  Guest       213.00\n",
       "...            ...                         ...    ...          ...\n",
       "43      2010-03-01                         Yes  Staff      2085.10\n",
       "44      2010-03-01                         Yes  Staff      2833.57\n",
       "45      2010-03-01                         Yes  Staff      2980.50\n",
       "46      2010-03-01                         Yes  Staff      2404.34\n",
       "47      2010-03-01                         Yes  Staff      2826.94\n",
       "48      2010-03-01                         Yes  Staff      2684.12\n",
       "49      2010-03-01                         Yes  Staff      2770.04\n",
       "\n",
       "[56 rows x 4 columns]"
      ]
     },
     "execution_count": 51,
     "metadata": {},
     "output_type": "execute_result"
    }
   ],
   "source": [
    "largeDF.dropna(axis=1)"
   ]
  },
  {
   "cell_type": "code",
   "execution_count": 52,
   "metadata": {
    "slideshow": {
     "slide_type": "subslide"
    }
   },
   "outputs": [
    {
     "data": {
      "text/html": [
       "<div>\n",
       "<style scoped>\n",
       "    .dataframe tbody tr th:only-of-type {\n",
       "        vertical-align: middle;\n",
       "    }\n",
       "\n",
       "    .dataframe tbody tr th {\n",
       "        vertical-align: top;\n",
       "    }\n",
       "\n",
       "    .dataframe thead th {\n",
       "        text-align: right;\n",
       "    }\n",
       "</style>\n",
       "<table border=\"1\" class=\"dataframe\">\n",
       "  <thead>\n",
       "    <tr style=\"text-align: right;\">\n",
       "      <th></th>\n",
       "      <th>Age</th>\n",
       "      <th>Join date</th>\n",
       "      <th>Signed up for Mailing List?</th>\n",
       "      <th>Status</th>\n",
       "      <th>Total Sales</th>\n",
       "    </tr>\n",
       "    <tr>\n",
       "      <th>User ID</th>\n",
       "      <th></th>\n",
       "      <th></th>\n",
       "      <th></th>\n",
       "      <th></th>\n",
       "      <th></th>\n",
       "    </tr>\n",
       "  </thead>\n",
       "  <tbody>\n",
       "    <tr>\n",
       "      <th>7652</th>\n",
       "      <td>37.00</td>\n",
       "      <td>2020-01-01</td>\n",
       "      <td>Yes</td>\n",
       "      <td>Staff</td>\n",
       "      <td>20.00</td>\n",
       "    </tr>\n",
       "    <tr>\n",
       "      <th>1025</th>\n",
       "      <td>54.00</td>\n",
       "      <td>2015-02-01</td>\n",
       "      <td>No</td>\n",
       "      <td>Guest</td>\n",
       "      <td>110.00</td>\n",
       "    </tr>\n",
       "    <tr>\n",
       "      <th>9856</th>\n",
       "      <td>29.00</td>\n",
       "      <td>2017-04-26</td>\n",
       "      <td>No</td>\n",
       "      <td>Guest</td>\n",
       "      <td>300.00</td>\n",
       "    </tr>\n",
       "    <tr>\n",
       "      <th>11063</th>\n",
       "      <td>62.00</td>\n",
       "      <td>2016-10-26</td>\n",
       "      <td>No</td>\n",
       "      <td>Staff</td>\n",
       "      <td>1100.00</td>\n",
       "    </tr>\n",
       "    <tr>\n",
       "      <th>2314</th>\n",
       "      <td>35.00</td>\n",
       "      <td>2019-01-13</td>\n",
       "      <td>No</td>\n",
       "      <td>Staff</td>\n",
       "      <td>500.00</td>\n",
       "    </tr>\n",
       "    <tr>\n",
       "      <th>6749</th>\n",
       "      <td>44.00</td>\n",
       "      <td>2018-05-11</td>\n",
       "      <td>Yes</td>\n",
       "      <td>Guest</td>\n",
       "      <td>244.00</td>\n",
       "    </tr>\n",
       "    <tr>\n",
       "      <th>4346</th>\n",
       "      <td>32.00</td>\n",
       "      <td>2017-04-26</td>\n",
       "      <td>No</td>\n",
       "      <td>Guest</td>\n",
       "      <td>213.00</td>\n",
       "    </tr>\n",
       "    <tr>\n",
       "      <th>...</th>\n",
       "      <td>...</td>\n",
       "      <td>...</td>\n",
       "      <td>...</td>\n",
       "      <td>...</td>\n",
       "      <td>...</td>\n",
       "    </tr>\n",
       "    <tr>\n",
       "      <th>43</th>\n",
       "      <td>41.86</td>\n",
       "      <td>2010-03-01</td>\n",
       "      <td>Yes</td>\n",
       "      <td>Staff</td>\n",
       "      <td>2085.10</td>\n",
       "    </tr>\n",
       "    <tr>\n",
       "      <th>44</th>\n",
       "      <td>41.86</td>\n",
       "      <td>2010-03-01</td>\n",
       "      <td>Yes</td>\n",
       "      <td>Staff</td>\n",
       "      <td>2833.57</td>\n",
       "    </tr>\n",
       "    <tr>\n",
       "      <th>45</th>\n",
       "      <td>41.86</td>\n",
       "      <td>2010-03-01</td>\n",
       "      <td>Yes</td>\n",
       "      <td>Staff</td>\n",
       "      <td>2980.50</td>\n",
       "    </tr>\n",
       "    <tr>\n",
       "      <th>46</th>\n",
       "      <td>41.86</td>\n",
       "      <td>2010-03-01</td>\n",
       "      <td>Yes</td>\n",
       "      <td>Staff</td>\n",
       "      <td>2404.34</td>\n",
       "    </tr>\n",
       "    <tr>\n",
       "      <th>47</th>\n",
       "      <td>41.86</td>\n",
       "      <td>2010-03-01</td>\n",
       "      <td>Yes</td>\n",
       "      <td>Staff</td>\n",
       "      <td>2826.94</td>\n",
       "    </tr>\n",
       "    <tr>\n",
       "      <th>48</th>\n",
       "      <td>41.86</td>\n",
       "      <td>2010-03-01</td>\n",
       "      <td>Yes</td>\n",
       "      <td>Staff</td>\n",
       "      <td>2684.12</td>\n",
       "    </tr>\n",
       "    <tr>\n",
       "      <th>49</th>\n",
       "      <td>41.86</td>\n",
       "      <td>2010-03-01</td>\n",
       "      <td>Yes</td>\n",
       "      <td>Staff</td>\n",
       "      <td>2770.04</td>\n",
       "    </tr>\n",
       "  </tbody>\n",
       "</table>\n",
       "<p>56 rows × 5 columns</p>\n",
       "</div>"
      ],
      "text/plain": [
       "          Age  Join date Signed up for Mailing List? Status  Total Sales\n",
       "User ID                                                                 \n",
       "7652    37.00 2020-01-01                         Yes  Staff        20.00\n",
       "1025    54.00 2015-02-01                          No  Guest       110.00\n",
       "9856    29.00 2017-04-26                          No  Guest       300.00\n",
       "11063   62.00 2016-10-26                          No  Staff      1100.00\n",
       "2314    35.00 2019-01-13                          No  Staff       500.00\n",
       "6749    44.00 2018-05-11                         Yes  Guest       244.00\n",
       "4346    32.00 2017-04-26                          No  Guest       213.00\n",
       "...       ...        ...                         ...    ...          ...\n",
       "43      41.86 2010-03-01                         Yes  Staff      2085.10\n",
       "44      41.86 2010-03-01                         Yes  Staff      2833.57\n",
       "45      41.86 2010-03-01                         Yes  Staff      2980.50\n",
       "46      41.86 2010-03-01                         Yes  Staff      2404.34\n",
       "47      41.86 2010-03-01                         Yes  Staff      2826.94\n",
       "48      41.86 2010-03-01                         Yes  Staff      2684.12\n",
       "49      41.86 2010-03-01                         Yes  Staff      2770.04\n",
       "\n",
       "[56 rows x 5 columns]"
      ]
     },
     "execution_count": 52,
     "metadata": {},
     "output_type": "execute_result"
    }
   ],
   "source": [
    "largeDF=largeDF.fillna(largeDF['Age'].mean())\n",
    "largeDF"
   ]
  },
  {
   "cell_type": "markdown",
   "metadata": {
    "slideshow": {
     "slide_type": "notes"
    }
   },
   "source": [
    "### [Reshaping data](https://pandas.pydata.org/pandas-docs/stable/getting_started/10min.html#stack)"
   ]
  },
  {
   "cell_type": "code",
   "execution_count": null,
   "metadata": {
    "slideshow": {
     "slide_type": "notes"
    }
   },
   "outputs": [],
   "source": [
    "tuples = list(zip(*[['bar', 'bar', 'baz', 'baz',\n",
    "                     'foo', 'foo', 'qux', 'qux'],\n",
    "                    ['one', 'two', 'one', 'two',\n",
    "                     'one', 'two', 'one', 'two']]))\n",
    "tuples"
   ]
  },
  {
   "cell_type": "code",
   "execution_count": null,
   "metadata": {
    "slideshow": {
     "slide_type": "notes"
    }
   },
   "outputs": [],
   "source": [
    "index = pd.MultiIndex.from_tuples(tuples, names=['first', 'second'])\n",
    "index"
   ]
  },
  {
   "cell_type": "code",
   "execution_count": null,
   "metadata": {
    "slideshow": {
     "slide_type": "notes"
    }
   },
   "outputs": [],
   "source": [
    "df = pd.DataFrame(np.random.randn(8, 2), index=index, columns=['A', 'B'])\n",
    "df"
   ]
  },
  {
   "cell_type": "code",
   "execution_count": null,
   "metadata": {
    "slideshow": {
     "slide_type": "notes"
    }
   },
   "outputs": [],
   "source": [
    "stacked = df.stack()\n",
    "stacked.unstack()"
   ]
  },
  {
   "cell_type": "markdown",
   "metadata": {
    "slideshow": {
     "slide_type": "notes"
    }
   },
   "source": [
    "### Pivot tables"
   ]
  },
  {
   "cell_type": "code",
   "execution_count": null,
   "metadata": {
    "slideshow": {
     "slide_type": "notes"
    }
   },
   "outputs": [],
   "source": [
    "pd.pivot_table(largeDF, values='Total Sales', index=['Signed up for Mailing List?'], columns=['Status'])"
   ]
  },
  {
   "cell_type": "markdown",
   "metadata": {
    "slideshow": {
     "slide_type": "notes"
    }
   },
   "source": [
    "### Timestamps"
   ]
  },
  {
   "cell_type": "code",
   "execution_count": null,
   "metadata": {
    "slideshow": {
     "slide_type": "notes"
    }
   },
   "outputs": [],
   "source": [
    "import datetime"
   ]
  },
  {
   "cell_type": "code",
   "execution_count": null,
   "metadata": {
    "slideshow": {
     "slide_type": "notes"
    }
   },
   "outputs": [],
   "source": [
    "rng = pd.date_range('1/1/2012', periods=100, freq='S')"
   ]
  },
  {
   "cell_type": "code",
   "execution_count": null,
   "metadata": {
    "slideshow": {
     "slide_type": "notes"
    }
   },
   "outputs": [],
   "source": [
    "rng"
   ]
  },
  {
   "cell_type": "markdown",
   "metadata": {
    "slideshow": {
     "slide_type": "slide"
    }
   },
   "source": [
    "### Basic Plotting"
   ]
  },
  {
   "cell_type": "code",
   "execution_count": 53,
   "metadata": {
    "slideshow": {
     "slide_type": "fragment"
    }
   },
   "outputs": [
    {
     "data": {
      "text/html": [
       "<div>\n",
       "<style scoped>\n",
       "    .dataframe tbody tr th:only-of-type {\n",
       "        vertical-align: middle;\n",
       "    }\n",
       "\n",
       "    .dataframe tbody tr th {\n",
       "        vertical-align: top;\n",
       "    }\n",
       "\n",
       "    .dataframe thead th {\n",
       "        text-align: right;\n",
       "    }\n",
       "</style>\n",
       "<table border=\"1\" class=\"dataframe\">\n",
       "  <thead>\n",
       "    <tr style=\"text-align: right;\">\n",
       "      <th></th>\n",
       "      <th>Age</th>\n",
       "      <th>Join date</th>\n",
       "      <th>Signed up for Mailing List?</th>\n",
       "      <th>Status</th>\n",
       "      <th>Total Sales</th>\n",
       "    </tr>\n",
       "    <tr>\n",
       "      <th>User ID</th>\n",
       "      <th></th>\n",
       "      <th></th>\n",
       "      <th></th>\n",
       "      <th></th>\n",
       "      <th></th>\n",
       "    </tr>\n",
       "  </thead>\n",
       "  <tbody>\n",
       "    <tr>\n",
       "      <th>7652</th>\n",
       "      <td>37.00</td>\n",
       "      <td>2020-01-01</td>\n",
       "      <td>Yes</td>\n",
       "      <td>Staff</td>\n",
       "      <td>20.00</td>\n",
       "    </tr>\n",
       "    <tr>\n",
       "      <th>1025</th>\n",
       "      <td>54.00</td>\n",
       "      <td>2015-02-01</td>\n",
       "      <td>No</td>\n",
       "      <td>Guest</td>\n",
       "      <td>110.00</td>\n",
       "    </tr>\n",
       "    <tr>\n",
       "      <th>9856</th>\n",
       "      <td>29.00</td>\n",
       "      <td>2017-04-26</td>\n",
       "      <td>No</td>\n",
       "      <td>Guest</td>\n",
       "      <td>300.00</td>\n",
       "    </tr>\n",
       "    <tr>\n",
       "      <th>11063</th>\n",
       "      <td>62.00</td>\n",
       "      <td>2016-10-26</td>\n",
       "      <td>No</td>\n",
       "      <td>Staff</td>\n",
       "      <td>1100.00</td>\n",
       "    </tr>\n",
       "    <tr>\n",
       "      <th>2314</th>\n",
       "      <td>35.00</td>\n",
       "      <td>2019-01-13</td>\n",
       "      <td>No</td>\n",
       "      <td>Staff</td>\n",
       "      <td>500.00</td>\n",
       "    </tr>\n",
       "    <tr>\n",
       "      <th>6749</th>\n",
       "      <td>44.00</td>\n",
       "      <td>2018-05-11</td>\n",
       "      <td>Yes</td>\n",
       "      <td>Guest</td>\n",
       "      <td>244.00</td>\n",
       "    </tr>\n",
       "    <tr>\n",
       "      <th>4346</th>\n",
       "      <td>32.00</td>\n",
       "      <td>2017-04-26</td>\n",
       "      <td>No</td>\n",
       "      <td>Guest</td>\n",
       "      <td>213.00</td>\n",
       "    </tr>\n",
       "    <tr>\n",
       "      <th>...</th>\n",
       "      <td>...</td>\n",
       "      <td>...</td>\n",
       "      <td>...</td>\n",
       "      <td>...</td>\n",
       "      <td>...</td>\n",
       "    </tr>\n",
       "    <tr>\n",
       "      <th>43</th>\n",
       "      <td>41.86</td>\n",
       "      <td>2010-03-01</td>\n",
       "      <td>Yes</td>\n",
       "      <td>Staff</td>\n",
       "      <td>2085.10</td>\n",
       "    </tr>\n",
       "    <tr>\n",
       "      <th>44</th>\n",
       "      <td>41.86</td>\n",
       "      <td>2010-03-01</td>\n",
       "      <td>Yes</td>\n",
       "      <td>Staff</td>\n",
       "      <td>2833.57</td>\n",
       "    </tr>\n",
       "    <tr>\n",
       "      <th>45</th>\n",
       "      <td>41.86</td>\n",
       "      <td>2010-03-01</td>\n",
       "      <td>Yes</td>\n",
       "      <td>Staff</td>\n",
       "      <td>2980.50</td>\n",
       "    </tr>\n",
       "    <tr>\n",
       "      <th>46</th>\n",
       "      <td>41.86</td>\n",
       "      <td>2010-03-01</td>\n",
       "      <td>Yes</td>\n",
       "      <td>Staff</td>\n",
       "      <td>2404.34</td>\n",
       "    </tr>\n",
       "    <tr>\n",
       "      <th>47</th>\n",
       "      <td>41.86</td>\n",
       "      <td>2010-03-01</td>\n",
       "      <td>Yes</td>\n",
       "      <td>Staff</td>\n",
       "      <td>2826.94</td>\n",
       "    </tr>\n",
       "    <tr>\n",
       "      <th>48</th>\n",
       "      <td>41.86</td>\n",
       "      <td>2010-03-01</td>\n",
       "      <td>Yes</td>\n",
       "      <td>Staff</td>\n",
       "      <td>2684.12</td>\n",
       "    </tr>\n",
       "    <tr>\n",
       "      <th>49</th>\n",
       "      <td>41.86</td>\n",
       "      <td>2010-03-01</td>\n",
       "      <td>Yes</td>\n",
       "      <td>Staff</td>\n",
       "      <td>2770.04</td>\n",
       "    </tr>\n",
       "  </tbody>\n",
       "</table>\n",
       "<p>56 rows × 5 columns</p>\n",
       "</div>"
      ],
      "text/plain": [
       "          Age  Join date Signed up for Mailing List? Status  Total Sales\n",
       "User ID                                                                 \n",
       "7652    37.00 2020-01-01                         Yes  Staff        20.00\n",
       "1025    54.00 2015-02-01                          No  Guest       110.00\n",
       "9856    29.00 2017-04-26                          No  Guest       300.00\n",
       "11063   62.00 2016-10-26                          No  Staff      1100.00\n",
       "2314    35.00 2019-01-13                          No  Staff       500.00\n",
       "6749    44.00 2018-05-11                         Yes  Guest       244.00\n",
       "4346    32.00 2017-04-26                          No  Guest       213.00\n",
       "...       ...        ...                         ...    ...          ...\n",
       "43      41.86 2010-03-01                         Yes  Staff      2085.10\n",
       "44      41.86 2010-03-01                         Yes  Staff      2833.57\n",
       "45      41.86 2010-03-01                         Yes  Staff      2980.50\n",
       "46      41.86 2010-03-01                         Yes  Staff      2404.34\n",
       "47      41.86 2010-03-01                         Yes  Staff      2826.94\n",
       "48      41.86 2010-03-01                         Yes  Staff      2684.12\n",
       "49      41.86 2010-03-01                         Yes  Staff      2770.04\n",
       "\n",
       "[56 rows x 5 columns]"
      ]
     },
     "execution_count": 53,
     "metadata": {},
     "output_type": "execute_result"
    }
   ],
   "source": [
    "largeDF"
   ]
  },
  {
   "cell_type": "markdown",
   "metadata": {
    "slideshow": {
     "slide_type": "fragment"
    }
   },
   "source": [
    "Could get the total sales value over time"
   ]
  },
  {
   "cell_type": "code",
   "execution_count": 54,
   "metadata": {
    "slideshow": {
     "slide_type": "subslide"
    }
   },
   "outputs": [],
   "source": [
    "largeDF=largeDF.set_index('Join date').sort_index()"
   ]
  },
  {
   "cell_type": "code",
   "execution_count": 55,
   "metadata": {
    "slideshow": {
     "slide_type": "fragment"
    }
   },
   "outputs": [
    {
     "data": {
      "text/plain": [
       "Join date\n",
       "2010-03-01    2310.46\n",
       "2010-03-01    2881.57\n",
       "2010-03-01    3012.32\n",
       "2010-03-01    4434.31\n",
       "2010-03-01    4806.63\n",
       "2010-03-01    6874.51\n",
       "2010-03-01    8055.16\n",
       "               ...   \n",
       "2015-02-01   70879.74\n",
       "2016-10-26   71979.74\n",
       "2017-04-26   72192.74\n",
       "2017-04-26   72492.74\n",
       "2018-05-11   72736.74\n",
       "2019-01-13   73236.74\n",
       "2020-01-01   73256.74\n",
       "Name: Total Sales, Length: 56, dtype: float64"
      ]
     },
     "execution_count": 55,
     "metadata": {},
     "output_type": "execute_result"
    }
   ],
   "source": [
    "largeDF['Total Sales'].cumsum()"
   ]
  },
  {
   "cell_type": "code",
   "execution_count": 57,
   "metadata": {
    "slideshow": {
     "slide_type": "subslide"
    }
   },
   "outputs": [
    {
     "data": {
      "text/plain": [
       "<matplotlib.axes._subplots.AxesSubplot at 0x7f49c361e780>"
      ]
     },
     "execution_count": 57,
     "metadata": {},
     "output_type": "execute_result"
    },
    {
     "data": {
      "image/png": "[encoded data removed]",
      "text/plain": [
       "<Figure size 432x288 with 1 Axes>"
      ]
     },
     "metadata": {
      "needs_background": "light"
     },
     "output_type": "display_data"
    }
   ],
   "source": [
    "largeDF['Total Sales'].cumsum()[-7::].plot() # get the cumulative sales from each member over time from 2015 onwards and plot"
   ]
  },
  {
   "cell_type": "markdown",
   "metadata": {
    "slideshow": {
     "slide_type": "fragment"
    }
   },
   "source": [
    "pandas ```.plot()``` convenience function relies on matplotlib, a popular data visualisation library in python"
   ]
  }
 ],
 "metadata": {
  "celltoolbar": "Slideshow",
  "kernelspec": {
   "display_name": "Python 3",
   "language": "python",
   "name": "python3"
  },
  "language_info": {
   "codemirror_mode": {
    "name": "ipython",
    "version": 3
   },
   "file_extension": ".py",
   "mimetype": "text/x-python",
   "name": "python",
   "nbconvert_exporter": "python",
   "pygments_lexer": "ipython3",
   "version": "3.7.1"
  },
  "toc": {
   "base_numbering": 1,
   "nav_menu": {},
   "number_sections": true,
   "sideBar": true,
   "skip_h1_title": false,
   "title_cell": "Table of Contents",
   "title_sidebar": "Contents",
   "toc_cell": false,
   "toc_position": {},
   "toc_section_display": true,
   "toc_window_display": false
  }
 },
 "nbformat": 4,
 "nbformat_minor": 2
}
